{
 "cells": [
  {
   "cell_type": "markdown",
   "metadata": {},
   "source": [
    "# 机器学习工程师纳米学位\n",
    "## 模型评价与验证\n",
    "## 项目 1: 预测波士顿房价\n",
    "\n",
    "\n",
    "欢迎来到机器学习工程师纳米学位的第一个项目！在此文件中，有些示例代码已经提供给你，但你还需要实现更多的功能来让项目成功运行。除非有明确要求，你无须修改任何已给出的代码。以**'练习'**开始的标题表示接下来的内容中有需要你必须实现的功能。每一部分都会有详细的指导，需要实现的部分也会在注释中以**'TODO'**标出。请仔细阅读所有的提示！\n",
    "\n",
    "除了实现代码外，你还**必须**回答一些与项目和实现有关的问题。每一个需要你回答的问题都会以**'问题 X'**为标题。请仔细阅读每个问题，并且在问题后的**'回答'**文字框中写出完整的答案。你的项目将会根据你对问题的回答和撰写代码所实现的功能来进行评分。\n",
    "\n",
    ">**提示：**Code 和 Markdown 区域可通过 **Shift + Enter** 快捷键运行。此外，Markdown可以通过双击进入编辑模式。"
   ]
  },
  {
   "cell_type": "markdown",
   "metadata": {},
   "source": [
    "## 开始\n",
    "在这个项目中，你将利用马萨诸塞州波士顿郊区的房屋信息数据训练和测试一个模型，并对模型的性能和预测能力进行测试。通过该数据训练后的好的模型可以被用来对房屋做特定预测---尤其是对房屋的价值。对于房地产经纪等人的日常工作来说，这样的预测模型被证明非常有价值。\n",
    "\n",
    "此项目的数据集来自[UCI机器学习知识库](https://archive.ics.uci.edu/ml/datasets/Housing)。波士顿房屋这些数据于1978年开始统计，共506个数据点，涵盖了麻省波士顿不同郊区房屋14种特征的信息。本项目对原始数据集做了以下处理：\n",
    "- 有16个`'MEDV'` 值为50.0的数据点被移除。 这很可能是由于这些数据点包含**遗失**或**看不到的值**。\n",
    "- 有1个数据点的 `'RM'` 值为8.78. 这是一个异常值，已经被移除。\n",
    "- 对于本项目，房屋的`'RM'`， `'LSTAT'`，`'PTRATIO'`以及`'MEDV'`特征是必要的，其余不相关特征已经被移除。\n",
    "- `'MEDV'`特征的值已经过必要的数学转换，可以反映35年来市场的通货膨胀效应。\n",
    "\n",
    "运行下面区域的代码以载入波士顿房屋数据集，以及一些此项目所需的Python库。如果成功返回数据集的大小，表示数据集已载入成功。"
   ]
  },
  {
   "cell_type": "code",
   "execution_count": 18,
   "metadata": {},
   "outputs": [
    {
     "name": "stdout",
     "output_type": "stream",
     "text": [
      "Boston housing dataset has 489 data points with 4 variables each.\n"
     ]
    }
   ],
   "source": [
    "# Import libraries necessary for this project\n",
    "# 载入此项目所需要的库\n",
    "import numpy as np\n",
    "import pandas as pd\n",
    "import visuals as vs # Supplementary code\n",
    "from sklearn.model_selection import ShuffleSplit\n",
    "\n",
    "# Pretty display for notebooks\n",
    "# 让结果在notebook中显示\n",
    "%matplotlib inline\n",
    "\n",
    "# Load the Boston housing dataset\n",
    "# 载入波士顿房屋的数据集\n",
    "data = pd.read_csv('housing.csv')\n",
    "prices = data['MEDV']\n",
    "features = data.drop('MEDV', axis = 1)\n",
    "#print type(prices)\n",
    "    \n",
    "# Success\n",
    "# 完成\n",
    "print \"Boston housing dataset has {} data points with {} variables each.\".format(*data.shape)\n"
   ]
  },
  {
   "cell_type": "markdown",
   "metadata": {},
   "source": [
    "## 分析数据\n",
    "在项目的第一个部分，你会对波士顿房地产数据进行初步的观察并给出你的分析。通过对数据的探索来熟悉数据可以让你更好地理解和解释你的结果。\n",
    "\n",
    "由于这个项目的最终目标是建立一个预测房屋价值的模型，我们需要将数据集分为**特征(features)**和**目标变量(target variable)**。**特征** `'RM'`， `'LSTAT'`，和 `'PTRATIO'`，给我们提供了每个数据点的数量相关的信息。**目标变量**：` 'MEDV'`，是我们希望预测的变量。他们分别被存在`features`和`prices`两个变量名中。"
   ]
  },
  {
   "cell_type": "markdown",
   "metadata": {},
   "source": [
    "## 练习：基础统计运算\n",
    "你的第一个编程练习是计算有关波士顿房价的描述统计数据。我们已为你导入了` numpy `，你需要使用这个库来执行必要的计算。这些统计数据对于分析模型的预测结果非常重要的。\n",
    "在下面的代码中，你要做的是：\n",
    "- 计算`prices`中的`'MEDV'`的最小值、最大值、均值、中值和标准差；\n",
    "- 将运算结果储存在相应的变量中。"
   ]
  },
  {
   "cell_type": "code",
   "execution_count": 19,
   "metadata": {},
   "outputs": [
    {
     "name": "stdout",
     "output_type": "stream",
     "text": [
      "Statistics for Boston housing dataset:\n",
      "\n",
      "Minimum price: $105,000.00\n",
      "Maximum price: $1,024,800.00\n",
      "Mean price: $454,342.94\n",
      "Median price $438,900.00\n",
      "Standard deviation of prices: $165,171.13\n"
     ]
    }
   ],
   "source": [
    "# TODO: Minimum price of the data\n",
    "#目标：计算价值的最小值\n",
    "minimum_price = np.amin(prices)\n",
    "\n",
    "# TODO: Maximum price of the data\n",
    "#目标：计算价值的最大值\n",
    "maximum_price = np.amax(prices)\n",
    "\n",
    "# TODO: Mean price of the data\n",
    "#目标：计算价值的平均值\n",
    "mean_price = np.mean(prices)\n",
    "\n",
    "# TODO: Median price of the data\n",
    "#目标：计算价值的中值\n",
    "median_price = np.median(prices)\n",
    "\n",
    "# TODO: Standard deviation of prices of the data\n",
    "#目标：计算价值的标准差\n",
    "std_price = np.std(prices)\n",
    "\n",
    "# Show the calculated statistics\n",
    "#目标：输出计算的结果\n",
    "print \"Statistics for Boston housing dataset:\\n\"\n",
    "print \"Minimum price: ${:,.2f}\".format(minimum_price)\n",
    "print \"Maximum price: ${:,.2f}\".format(maximum_price)\n",
    "print \"Mean price: ${:,.2f}\".format(mean_price)\n",
    "print \"Median price ${:,.2f}\".format(median_price)\n",
    "print \"Standard deviation of prices: ${:,.2f}\".format(std_price)"
   ]
  },
  {
   "cell_type": "markdown",
   "metadata": {},
   "source": [
    "### 问题1 - 特征观察\n",
    "\n",
    "如前文所述，本项目中我们关注的是其中三个值:`'RM'`、`'LSTAT'` 和`'PTRATIO'`，对每一个数据点:\n",
    "- `'RM'` 是该地区中每个房屋的平均房间数量；\n",
    "- `'LSTAT'` 是指该地区有多少百分比的房东属于是低收入阶层（有工作但收入微薄）；\n",
    "- `'PTRATIO'` 是该地区的中学和小学里，学生和老师的数目比（`学生/老师`）。\n",
    "\n",
    "_凭直觉，上述三个特征中对每一个来说，你认为增大该特征的数值，`'MEDV'`的值会是**增大**还是**减小**呢？每一个答案都需要你给出理由。_\n",
    "\n",
    "**提示：**你预期一个`'RM'` 值是6的房屋跟`'RM'` 值是7的房屋相比，价值更高还是更低呢？"
   ]
  },
  {
   "cell_type": "markdown",
   "metadata": {},
   "source": [
    "**回答: （1）RM的值越高，房屋的价格应该是越高，房间的个数越多说明房子的面积应该相应越大；\n",
    "        （2）‘LSTAT'的值越高，房屋的价值应该是越低，如果该地区低收入人群很很多的话说明，该区域的房屋价格应该是不高的，否则低收入者很难承受高房价\n",
    "        （3）’PTRATIO'的值越高，房屋的价格应该越低，该值越高说明教育资源紧张**"
   ]
  },
  {
   "cell_type": "markdown",
   "metadata": {},
   "source": [
    "## 建模\n",
    "在项目的第二部分中，你需要了解必要的工具和技巧来让你的模型进行预测。用这些工具和技巧对每一个模型的表现做精确的衡量可以极大地增强你预测的信心。"
   ]
  },
  {
   "cell_type": "markdown",
   "metadata": {},
   "source": [
    "### 练习：定义衡量标准\n",
    "如果不能对模型的训练和测试的表现进行量化地评估，我们就很难衡量模型的好坏。通常我们会定义一些衡量标准，这些标准可以通过对某些误差或者拟合程度的计算来得到。在这个项目中，你将通过运算[*决定系数*](http://stattrek.com/statistics/dictionary.aspx?definition=coefficient_of_determination) R<sup>2</sup> 来量化模型的表现。模型的决定系数是回归分析中十分常用的统计信息，经常被当作衡量模型预测能力好坏的标准。\n",
    "\n",
    "R<sup>2</sup>的数值范围从0至1，表示**目标变量**的预测值和实际值之间的相关程度平方的百分比。一个模型的R<sup>2</sup> 值为0还不如直接用**平均值**来预测效果好；而一个R<sup>2</sup> 值为1的模型则可以对目标变量进行完美的预测。从0至1之间的数值，则表示该模型中目标变量中有百分之多少能够用**特征**来解释。_模型也可能出现负值的R<sup>2</sup>，这种情况下模型所做预测有时会比直接计算目标变量的平均值差很多。_\n",
    "\n",
    "在下方代码的 `performance_metric` 函数中，你要实现：\n",
    "- 使用 `sklearn.metrics` 中的 `r2_score` 来计算 `y_true` 和 `y_predict`的R<sup>2</sup>值，作为对其表现的评判。\n",
    "- 将他们的表现评分储存到`score`变量中。"
   ]
  },
  {
   "cell_type": "code",
   "execution_count": 20,
   "metadata": {
    "collapsed": true
   },
   "outputs": [],
   "source": [
    "# TODO: Import 'r2_score'\n",
    "from sklearn.metrics import r2_score\n",
    "\n",
    "def performance_metric(y_true, y_predict):\n",
    "    \"\"\" Calculates and returns the performance score between \n",
    "        true and predicted values based on the metric chosen. \"\"\"\n",
    "    \n",
    "    # TODO: Calculate the performance score between 'y_true' and 'y_predict'\n",
    "    score = r2_score(y_true,y_predict)\n",
    "    \n",
    "    # Return the score\n",
    "    return score"
   ]
  },
  {
   "cell_type": "markdown",
   "metadata": {},
   "source": [
    "### 问题2 - 拟合程度\n",
    "\n",
    "假设一个数据集有五个数据且一个模型做出下列目标变量的预测：\n",
    "\n",
    "| 真实数值 | 预测数值 |\n",
    "| :-------------: | :--------: |\n",
    "| 3.0 | 2.5 |\n",
    "| -0.5 | 0.0 |\n",
    "| 2.0 | 2.1 |\n",
    "| 7.0 | 7.8 |\n",
    "| 4.2 | 5.3 |\n",
    "*你会觉得这个模型已成功地描述了目标变量的变化吗？如果成功，请解释为什么，如果没有，也请给出原因。*  \n",
    "\n",
    "运行下方的代码，使用`performance_metric`函数来计算模型的决定系数。"
   ]
  },
  {
   "cell_type": "code",
   "execution_count": 21,
   "metadata": {},
   "outputs": [
    {
     "name": "stdout",
     "output_type": "stream",
     "text": [
      "Model has a coefficient of determination, R^2, of 0.923.\n"
     ]
    }
   ],
   "source": [
    "# Calculate the performance of this model\n",
    "score = performance_metric([3, -0.5, 2, 7, 4.2], [2.5, 0.0, 2.1, 7.8, 5.3])\n",
    "print \"Model has a coefficient of determination, R^2, of {:.3f}.\".format(score)"
   ]
  },
  {
   "cell_type": "markdown",
   "metadata": {},
   "source": [
    "**回答:我觉得这个模型很好地描述了目标变量的变化，我们得出的R^2 score 是0.923，根据R^2的定义，其取值范围在0.0~1.0之间，数值越大说明模型能越好的预测。**"
   ]
  },
  {
   "cell_type": "markdown",
   "metadata": {},
   "source": [
    "### 练习: 数据分割与重排\n",
    "接下来，你需要把波士顿房屋数据集分成训练和测试两个子集。通常在这个过程中，数据也会被重新排序，以消除数据集中由于排序而产生的偏差。\n",
    "在下面的代码中，你需要：\n",
    "- 使用 `sklearn.model_selection` 中的 `train_test_split`， 将`features`和`prices`的数据都分成用于训练的数据子集和用于测试的数据子集。\n",
    "  - 分割比例为：80%的数据用于训练，20%用于测试；\n",
    "  - 选定一个数值以设定 `train_test_split` 中的 `random_state` ，这会确保结果的一致性；\n",
    "- 最终分离出的子集为`X_train`,`X_test`,`y_train`,和`y_test`。"
   ]
  },
  {
   "cell_type": "code",
   "execution_count": 22,
   "metadata": {},
   "outputs": [
    {
     "name": "stdout",
     "output_type": "stream",
     "text": [
      "Training and testing split was successful.\n"
     ]
    }
   ],
   "source": [
    "# TODO: Import 'train_test_split'\n",
    "from sklearn.cross_validation import train_test_split\n",
    "\n",
    "\n",
    "# TODO: Shuffle and split the data into training and testing subsets\n",
    "X_train, X_test, y_train, y_test = train_test_split(features, prices, train_size = 0.8, random_state = 24)\n",
    "\n",
    "# Success\n",
    "print \"Training and testing split was successful.\""
   ]
  },
  {
   "cell_type": "markdown",
   "metadata": {},
   "source": [
    "### 问题 3- 训练及测试\n",
    "*将数据集按一定比例分为训练用的数据集和测试用的数据集对学习算法有什么好处？*\n",
    "\n",
    "**提示：** 如果没有数据来对模型进行测试，会出现什么问题？"
   ]
  },
  {
   "cell_type": "markdown",
   "metadata": {},
   "source": [
    "**答案: 在用训练数据集训练完模型后，可以用测试数据集来检验训练的结果。如果用同一套数据来训练和测试，那我们就无法评价模型的拟合情况，比如说过拟合根本不可能反映出来，所以说必须有单独的测试数据集来验证模型的训练效果。**"
   ]
  },
  {
   "cell_type": "markdown",
   "metadata": {},
   "source": [
    "----\n",
    "\n",
    "## 分析模型的表现\n",
    "在项目的第三部分，我们来看一下几个模型针对不同的数据集在学习和测试上的表现。另外，你需要专注于一个特定的算法，用全部训练集训练时，提高它的`'max_depth'` 参数，观察这一参数的变化如何影响模型的表现。把你模型的表现画出来对于分析过程十分有益。可视化可以让我们看到一些单看结果看不到的行为。"
   ]
  },
  {
   "cell_type": "markdown",
   "metadata": {},
   "source": [
    "### 学习曲线\n",
    "下方区域内的代码会输出四幅图像，它们是一个决策树模型在不同最大深度下的表现。每一条曲线都直观的显示了随着训练数据量的增加，模型学习曲线的训练评分和测试评分的变化。注意，曲线的阴影区域代表的是该曲线的不确定性（用标准差衡量）。这个模型的训练和测试部分都使用决定系数R<sup>2</sup>来评分。\n",
    "\n",
    "运行下方区域中的代码，并利用输出的图形回答下面的问题。"
   ]
  },
  {
   "cell_type": "code",
   "execution_count": 23,
   "metadata": {
    "scrolled": false
   },
   "outputs": [
    {
     "data": {
      "image/png": "[encoded data removed]",
      "text/plain": [
       "<matplotlib.figure.Figure at 0x116207e10>"
      ]
     },
     "metadata": {},
     "output_type": "display_data"
    }
   ],
   "source": [
    "# Produce learning curves for varying training set sizes and maximum depths\n",
    "vs.ModelLearning(features, prices)"
   ]
  },
  {
   "cell_type": "markdown",
   "metadata": {},
   "source": [
    "### 问题 4 - 学习数据\n",
    "*选择上述图像中的其中一个，并给出其最大深度。随着训练数据量的增加，训练曲线的评分有怎样的变化？测试曲线呢？如果有更多的训练数据，是否能有效提升模型的表现呢？*\n",
    "**提示：**学习曲线的评分是否最终会收敛到特定的值？"
   ]
  },
  {
   "cell_type": "markdown",
   "metadata": {},
   "source": [
    "**答案: **以图2为例，其最大深度为3。随着训练数量的增加，训练曲线的评分呈一个微弱的递减趋势，最后基本稳定在0.8左右。测试曲线相反，则呈上升趋势，最后也基本稳定在0.8的下方一点点。在该例中，如果继续增加训练数据，对模型表现提升作用是有限的，作用不大。"
   ]
  },
  {
   "cell_type": "markdown",
   "metadata": {},
   "source": [
    "### 复杂度曲线\n",
    "下列代码内的区域会输出一幅图像，它展示了一个已经经过训练和验证的决策树模型在不同最大深度条件下的表现。这个图形将包含两条曲线，一个是训练的变化，一个是测试的变化。跟**学习曲线**相似，阴影区域代表该曲线的不确定性，模型训练和测试部分的评分都用的 `performance_metric` 函数。\n",
    "\n",
    "运行下方区域中的代码，并利用输出的图形并回答下面的两个问题。"
   ]
  },
  {
   "cell_type": "code",
   "execution_count": 24,
   "metadata": {},
   "outputs": [
    {
     "data": {
      "image/png": "[encoded data removed]",
      "text/plain": [
       "<matplotlib.figure.Figure at 0x1164f7990>"
      ]
     },
     "metadata": {},
     "output_type": "display_data"
    }
   ],
   "source": [
    "vs.ModelComplexity(X_train, y_train)"
   ]
  },
  {
   "cell_type": "markdown",
   "metadata": {},
   "source": [
    "### 问题 5- 偏差与方差之间的权衡取舍\n",
    "*当模型以最大深度 1训练时，模型的预测是出现很大的偏差还是出现了很大的方差？当模型以最大深度10训练时，情形又如何呢？图形中的哪些特征能够支持你的结论？*\n",
    "  \n",
    "**提示：** 你如何得知模型是否出现了偏差很大或者方差很大的问题？"
   ]
  },
  {
   "cell_type": "markdown",
   "metadata": {},
   "source": [
    "**答案: **当模型以最大深度1训练时，模型出现很大偏差，表现为模型评分很低，不到0.5，此时模型复杂度太低，不足以描述数据。当以最大深度为10训练时，出现了很大的方差，此时训练数据集的评分很高，但测试数据集的评分却下降了，说明模型过拟合。"
   ]
  },
  {
   "cell_type": "markdown",
   "metadata": {},
   "source": [
    "### 问题 6- 最优模型的猜测\n",
    "*你认为最大深度是多少的模型能够最好地对未见过的数据进行预测？你得出这个答案的依据是什么？*"
   ]
  },
  {
   "cell_type": "markdown",
   "metadata": {},
   "source": [
    "**答案: **我认为最大深度在3的时候，模型能最好地对未见过的数据进行预测。如图所示，max-depth=3的时候恰好是validation曲线的顶点，往前或者往后预测的水平都会下降。"
   ]
  },
  {
   "cell_type": "markdown",
   "metadata": {},
   "source": [
    "-----\n",
    "\n",
    "## 评价模型表现\n",
    "在这个项目的最后，你将自己建立模型，并使用最优化的`fit_model`函数，基于客户房子的特征来预测该房屋的价值。"
   ]
  },
  {
   "cell_type": "markdown",
   "metadata": {},
   "source": [
    "### 问题 7- 网格搜索（Grid Search）\n",
    "*什么是网格搜索法？如何用它来优化学习算法？*\n"
   ]
  },
  {
   "cell_type": "markdown",
   "metadata": {},
   "source": [
    "**回答:**网格搜索，可以实现用简单的几行代码，遍历多种参数组合，再通过验证方法，找到最佳参数组合。选定要搜索的参数范围，比如说参数A:range(0,10),参数B:range(5,10),那么网格搜索遍历每一对数据组合，比如（0，5）、（0，6）、（0，7）...，最后从这些组合里选择最优组合。"
   ]
  },
  {
   "cell_type": "markdown",
   "metadata": {},
   "source": [
    "### 问题 8- 交叉验证\n",
    "*什么是K折交叉验证法（k-fold cross-validation）？优化模型时，使用这种方法对网格搜索有什么好处？网格搜索是如何结合交叉验证来完成对最佳参数组合的选择的？* \n",
    "\n",
    "**提示：** 跟为何需要一组测试集的原因差不多，网格搜索时如果不使用交叉验证会有什么问题？GridSearchCV中的[`'cv_results'`](http://scikit-learn.org/stable/modules/generated/sklearn.model_selection.GridSearchCV.html)属性能告诉我们什么？"
   ]
  },
  {
   "cell_type": "markdown",
   "metadata": {},
   "source": [
    "**答案: **K折交叉验证法，指的是把训练集分割成K等份，通过轮流把其中每一份数据作为验证集，其余作为训练集，训练算法然后验证算法的效果，平均K次的验证结果，得到最后的验证结果。\n",
    "这个方法的优势在于，同时重复运用随机产生的子样本进行训练和验证，每次的结果验证一次。网格搜索通过遍历参数组合结合K折交叉验证法通过对数据组合的遍历来验证不同参数组合的算法效果，以获得最佳算法参数。网格搜索如果不适用交叉验证法，有可能由于数据的一些特殊的分布，造成我们无法选出最优的参数。cv_results_顾名思义是交叉验证结果的意思，其内容就是每对参数组合对应的交叉验证的的评分。"
   ]
  },
  {
   "cell_type": "markdown",
   "metadata": {},
   "source": [
    "### 练习：训练模型\n",
    "在最后一个练习中，你将需要将所学到的内容整合，使用**决策树演算法**训练一个模型。为了保证你得出的是一个最优模型，你需要使用网格搜索法训练模型，以找到最佳的 `'max_depth'` 参数。你可以把`'max_depth'` 参数理解为决策树算法在做出预测前，允许其对数据提出问题的数量。决策树是**监督学习算法**中的一种。\n",
    "\n",
    "此外，你会发现你的实现使用的是 `ShuffleSplit()` 。它也是交叉验证的一种方式（见变量 `'cv_sets'`）。虽然这不是**问题8**中描述的 K-Fold 交叉验证，这个教程验证方法也很有用！这里 `ShuffleSplit()` 会创造10个(`'n_splits'`)混洗过的集合，每个集合中20%(`'test_size'`)的数据会被用作**验证集**。当你在实现的时候，想一想这跟 K-Fold 交叉验证有哪些相同点，哪些不同点？\n",
    "\n",
    "在下方 `fit_model` 函数中，你需要做的是：\n",
    "- 使用  `sklearn.tree` 中的 [`DecisionTreeRegressor`](http://scikit-learn.org/stable/modules/generated/sklearn.tree.DecisionTreeRegressor.html) 创建一个决策树的回归函数；\n",
    "  - 将这个回归函数储存到 `'regressor'` 变量中；\n",
    "- 为 `'max_depth'` 创造一个字典，它的值是从1至10的数组，并储存到 `'params'` 变量中；\n",
    "- 使用 `sklearn.metrics` 中的 [`make_scorer`](http://scikit-learn.org/stable/modules/generated/sklearn.metrics.make_scorer.html)  创建一个评分函数；\n",
    "  - 将 `performance_metric` 作为参数传至这个函数中；\n",
    "  - 将评分函数储存到 `'scoring_fnc'` 变量中；\n",
    "- 使用 `sklearn.model_selection` 中的 [`GridSearchCV`](http://scikit-learn.org/stable/modules/generated/sklearn.model_selection.GridSearchCV.html) 创建一个网格搜索对象；\n",
    "  - 将变量`'regressor'`, `'params'`, `'scoring_fnc'`, 和 `'cv_sets'` 作为参数传至这个对象中；\n",
    "  - 将 `GridSearchCV` 存到 `'grid'` 变量中。\n",
    "  \n",
    "如果有同学对python函数如何传递多个参数不熟悉，可以参考这个MIT课程的[视频](http://cn-static.udacity.com/mlnd/videos/MIT600XXT114-V004200_DTH.mp4)。"
   ]
  },
  {
   "cell_type": "code",
   "execution_count": 25,
   "metadata": {
    "collapsed": true
   },
   "outputs": [],
   "source": [
    "# TODO: Import 'make_scorer', 'DecisionTreeRegressor', and 'GridSearchCV'\n",
    "from sklearn.tree import DecisionTreeRegressor\n",
    "from sklearn.metrics import make_scorer\n",
    "from sklearn.model_selection import GridSearchCV\n",
    "from sklearn.model_selection import ShuffleSplit\n",
    "\n",
    "def fit_model(X, y):\n",
    "    \"\"\" Performs grid search over the 'max_depth' parameter for a \n",
    "        decision tree regressor trained on the input data [X, y]. \"\"\"\n",
    "    \n",
    "    # Create cross-validation sets from the training data\n",
    "    cv_sets = ShuffleSplit(n_splits = 10, test_size = 0.20, random_state = 0)\n",
    "\n",
    "    # TODO: Create a decision tree regressor object\n",
    "    regressor = DecisionTreeRegressor(random_state=0)\n",
    "\n",
    "    # TODO: Create a dictionary for the parameter 'max_depth' with a range from 1 to 10\n",
    "    params = {'max_depth':range(1,11)}\n",
    "\n",
    "    # TODO: Transform 'performance_metric' into a scoring function using 'make_scorer' \n",
    "    scoring_fnc = make_scorer(performance_metric)\n",
    "\n",
    "    # TODO: Create the grid search object\n",
    "    grid = GridSearchCV(regressor,params,scoring_fnc,cv=cv_sets)\n",
    "\n",
    "    # Fit the grid search object to the data to compute the optimal model\n",
    "    grid = grid.fit(X, y)\n",
    "    #print grid.cv_results_\n",
    "\n",
    "    # Return the optimal model after fitting the data\n",
    "    return grid.best_estimator_"
   ]
  },
  {
   "cell_type": "markdown",
   "metadata": {},
   "source": [
    "### 做出预测\n",
    "当我们用数据训练出一个模型，它现在就可用于对新的数据进行预测。在决策树回归函数中，模型已经学会对新输入的数据*提问*，并返回对**目标变量**的预测值。你可以用这个预测来获取数据未知目标变量的信息，这些数据必须是不包含在训练数据之内的。"
   ]
  },
  {
   "cell_type": "markdown",
   "metadata": {},
   "source": [
    "### 问题 9- 最优模型\n",
    "*最优模型的最大深度（maximum depth）是多少？此答案与你在**问题 6**所做的猜测是否相同？*\n",
    "\n",
    "运行下方区域内的代码，将决策树回归函数代入训练数据的集合，以得到最优化的模型。"
   ]
  },
  {
   "cell_type": "code",
   "execution_count": 26,
   "metadata": {
    "scrolled": true
   },
   "outputs": [
    {
     "name": "stdout",
     "output_type": "stream",
     "text": [
      "{'rank_test_score': array([10,  8,  3,  1,  2,  4,  5,  6,  7,  9], dtype=int32), 'split6_test_score': array([ 0.38844999,  0.67936043,  0.84841504,  0.85466794,  0.81574848,\n",
      "        0.78624352,  0.72710669,  0.72764864,  0.7341121 ,  0.69487157]), 'split7_train_score': array([ 0.47358388,  0.72414342,  0.83833528,  0.88857631,  0.91357209,\n",
      "        0.93296254,  0.949466  ,  0.96010067,  0.96981721,  0.97757517]), 'split0_train_score': array([ 0.47596831,  0.72683528,  0.81744951,  0.87086   ,  0.8968827 ,\n",
      "        0.92766849,  0.94514991,  0.96270077,  0.97236006,  0.98666855]), 'split2_test_score': array([ 0.14216431,  0.53209782,  0.68251368,  0.58647567,  0.59416491,\n",
      "        0.59117117,  0.58467327,  0.47228422,  0.41860389,  0.38431847]), 'mean_fit_time': array([ 0.00152545,  0.00156391,  0.00142791,  0.00130839,  0.00139117,\n",
      "        0.0016089 ,  0.00175223,  0.00156903,  0.00158622,  0.00161195]), 'split3_train_score': array([ 0.45094348,  0.69220101,  0.80679048,  0.87247678,  0.89739025,\n",
      "        0.91817947,  0.94263052,  0.96337942,  0.97651979,  0.98615312]), 'split6_train_score': array([ 0.45148416,  0.70191725,  0.80181735,  0.86471689,  0.89565753,\n",
      "        0.9221958 ,  0.9422462 ,  0.95861861,  0.96851086,  0.98012017]), 'split9_test_score': array([ 0.34220696,  0.69169596,  0.80063614,  0.8346844 ,  0.81721845,\n",
      "        0.79988303,  0.77242956,  0.76880898,  0.74701413,  0.73173736]), 'std_test_score': array([ 0.08038092,  0.06113311,  0.06022728,  0.08000993,  0.07041806,\n",
      "        0.07073176,  0.06110811,  0.08115769,  0.09445474,  0.09642916]), 'params': ({'max_depth': 1}, {'max_depth': 2}, {'max_depth': 3}, {'max_depth': 4}, {'max_depth': 5}, {'max_depth': 6}, {'max_depth': 7}, {'max_depth': 8}, {'max_depth': 9}, {'max_depth': 10}), 'split8_test_score': array([ 0.39520281,  0.70866039,  0.75024013,  0.77893824,  0.76631023,\n",
      "        0.72814194,  0.68544209,  0.70318656,  0.67782988,  0.69519419]), 'std_score_time': array([  7.62569666e-05,   5.02716189e-05,   3.35084569e-05,\n",
      "         1.22060068e-06,   4.37866609e-06,   3.94160067e-05,\n",
      "         6.85720558e-05,   4.85016293e-06,   4.99519641e-06,\n",
      "         5.30796011e-06]), 'std_fit_time': array([  2.72910798e-04,   2.41625962e-04,   2.44943373e-04,\n",
      "         7.49013890e-06,   4.05709688e-05,   3.81408251e-04,\n",
      "         3.92557696e-04,   1.12089802e-04,   4.05208420e-05,\n",
      "         8.73731718e-06]), 'std_train_score': array([ 0.01266356,  0.01049278,  0.01142731,  0.01053726,  0.00769054,\n",
      "        0.00537346,  0.0030051 ,  0.00289747,  0.00282503,  0.0039841 ]), 'split4_test_score': array([ 0.30242718,  0.61913032,  0.75867031,  0.80414406,  0.81695821,\n",
      "        0.81748597,  0.74958071,  0.71244597,  0.66608365,  0.67402608]), 'param_max_depth': masked_array(data = [1 2 3 4 5 6 7 8 9 10],\n",
      "             mask = [False False False False False False False False False False],\n",
      "       fill_value = ?)\n",
      ", 'split1_train_score': array([ 0.44143317,  0.71236116,  0.80159321,  0.85077694,  0.89632627,\n",
      "        0.92326461,  0.94358175,  0.95878843,  0.9696454 ,  0.98295958]), 'split2_train_score': array([ 0.47510888,  0.71188496,  0.82812902,  0.88513121,  0.90944005,\n",
      "        0.92826541,  0.94282587,  0.95777221,  0.97152657,  0.98522703]), 'split4_train_score': array([ 0.46275544,  0.70573325,  0.80260998,  0.8611904 ,  0.89164062,\n",
      "        0.92475476,  0.94422217,  0.96133498,  0.97379028,  0.98569495]), 'mean_score_time': array([ 0.00035567,  0.00034118,  0.00030756,  0.00029047,  0.00029423,\n",
      "        0.0003171 ,  0.00033519,  0.00030079,  0.00029974,  0.00030196]), 'split9_train_score': array([ 0.46743084,  0.72194649,  0.81633573,  0.86632485,  0.89004433,\n",
      "        0.92337573,  0.94017159,  0.95638141,  0.96837164,  0.97628668]), 'split5_test_score': array([ 0.37760746,  0.71100599,  0.78790982,  0.8492678 ,  0.81425919,\n",
      "        0.77836054,  0.68620544,  0.63857511,  0.65325391,  0.61200489]), 'mean_train_score': array([ 0.4591158 ,  0.71110173,  0.81425748,  0.86950745,  0.89799065,\n",
      "        0.92528303,  0.94415523,  0.95957749,  0.97142748,  0.98249536]), 'split8_train_score': array([ 0.44725058,  0.71244883,  0.81721728,  0.87144182,  0.90078528,\n",
      "        0.93462349,  0.94968062,  0.96272802,  0.9752881 ,  0.98668186]), 'split7_test_score': array([ 0.24771294,  0.56067088,  0.66873024,  0.70992194,  0.70252429,\n",
      "        0.64544702,  0.66463995,  0.68686498,  0.66104399,  0.61721493]), 'split0_test_score': array([ 0.31102772,  0.66389048,  0.78594037,  0.82260032,  0.81291749,\n",
      "        0.77981775,  0.76916088,  0.72231155,  0.76054878,  0.68026402]), 'mean_test_score': array([ 0.3315119 ,  0.65653208,  0.77672241,  0.79203448,  0.77695938,\n",
      "        0.74870113,  0.71662817,  0.69178654,  0.67702401,  0.65046902]), 'split3_test_score': array([ 0.39042087,  0.69140972,  0.83107704,  0.8302929 ,  0.80347743,\n",
      "        0.80792111,  0.80746409,  0.76411456,  0.75405666,  0.73026136]), 'split5_train_score': array([ 0.44519922,  0.7015457 ,  0.81229697,  0.86357929,  0.8881674 ,\n",
      "        0.91754005,  0.94157764,  0.95397039,  0.96844486,  0.97758649]), 'split1_test_score': array([ 0.41789877,  0.70739881,  0.85309136,  0.84935151,  0.82601514,\n",
      "        0.75253927,  0.71957899,  0.72162486,  0.69769314,  0.68479728])}\n",
      "Parameter 'max_depth' is 4 for the optimal model.\n"
     ]
    }
   ],
   "source": [
    "# Fit the training data to the model using grid search\n",
    "reg = fit_model(X_train, y_train)\n",
    "\n",
    "# Produce the value for 'max_depth'\n",
    "print \"Parameter 'max_depth' is {} for the optimal model.\".format(reg.get_params()['max_depth'])"
   ]
  },
  {
   "cell_type": "markdown",
   "metadata": {},
   "source": [
    "**Answer: **Parameter 'max_depth' is 4 for the optimal model. 我在问题6里的猜测是3，接近但不准确。"
   ]
  },
  {
   "cell_type": "markdown",
   "metadata": {},
   "source": [
    "### 问题 10 - 预测销售价格\n",
    "想像你是一个在波士顿地区的房屋经纪人，并期待使用此模型以帮助你的客户评估他们想出售的房屋。你已经从你的三个客户收集到以下的资讯:\n",
    "\n",
    "| 特征 | 客戶 1 | 客戶 2 | 客戶 3 |\n",
    "| :---: | :---: | :---: | :---: |\n",
    "| 房屋内房间总数 | 5 间房间 | 4 间房间 | 8 间房间 |\n",
    "| 社区贫困指数（％被认为是贫困阶层） | 17% | 32% | 3% |\n",
    "| 邻近学校的学生-老师比例 | 15：1 | 22：1 | 12：1 |\n",
    "\n",
    "*你会建议每位客户的房屋销售的价格为多少？从房屋特征的数值判断，这样的价格合理吗？* \n",
    "\n",
    "**提示：**用你在**分析数据**部分计算出来的统计信息来帮助你证明你的答案。\n",
    "\n",
    "运行下列的代码区域，使用你优化的模型来为每位客户的房屋价值做出预测。"
   ]
  },
  {
   "cell_type": "code",
   "execution_count": 27,
   "metadata": {},
   "outputs": [
    {
     "name": "stdout",
     "output_type": "stream",
     "text": [
      "Predicted selling price for Client 1's home: $412,324.14\n",
      "Predicted selling price for Client 2's home: $234,546.67\n",
      "Predicted selling price for Client 3's home: $914,025.00\n"
     ]
    }
   ],
   "source": [
    "# Produce a matrix for client data\n",
    "client_data = [[5, 17, 15], # Client 1\n",
    "               [4, 32, 22], # Client 2\n",
    "               [8, 3, 12]]  # Client 3\n",
    "\n",
    "# Show predictions\n",
    "for i, price in enumerate(reg.predict(client_data)):\n",
    "    print \"Predicted selling price for Client {}'s home: ${:,.2f}\".format(i+1, price)"
   ]
  },
  {
   "cell_type": "markdown",
   "metadata": {},
   "source": [
    "**答案: **模型预测出来的价格如下：\n",
    "\n",
    "- Predicted selling price for Client 1's home:  412,324.14\n",
    "- Predicted selling price for Client 3's home:  914,025.00\n",
    "- Predicted selling price for Client 2's home:  234,546.67\n",
    "\n",
    "以上预测房价的最大值是914,025.00，最小值是234,546.67，平均值是520,298.63\n",
    "结合房屋的特征来看，我认为这个价格预测是合理的，比如拿客户2和客户3来说，客户3有8间房，是客户2的房间数的两倍，然而客户3所在小区的贫困指数较低，师资力量强，所以客户3的房价是客户2的四倍多，这与我们的分析是一致的。"
   ]
  },
  {
   "cell_type": "markdown",
   "metadata": {},
   "source": [
    "### 敏感度\n",
    "\n",
    "一个最优的模型不一定是一个健壮模型。有的时候模型会过于复杂或者过于简单，以致于难以泛化新增添的数据；有的时候模型采用的学习算法并不适用于特定的数据结构；有的时候样本本身可能有太多噪点或样本过少，使得模型无法准确地预测目标变量。这些情况下我们会说模型是欠拟合的。执行下方区域中的代码，采用不同的训练和测试集执行 `fit_model` 函数10次。注意观察对一个特定的客户来说，预测是如何随训练数据的变化而变化的。"
   ]
  },
  {
   "cell_type": "code",
   "execution_count": 28,
   "metadata": {},
   "outputs": [
    {
     "name": "stdout",
     "output_type": "stream",
     "text": [
      "{'rank_test_score': array([10,  9,  6,  1,  2,  4,  5,  3,  7,  8], dtype=int32), 'split6_test_score': array([ 0.3270022 ,  0.6165756 ,  0.7397642 ,  0.80567829,  0.8049325 ,\n",
      "        0.77250097,  0.81541948,  0.75102892,  0.75237342,  0.79156916]), 'split7_train_score': array([ 0.47000436,  0.73606868,  0.84650187,  0.88343482,  0.91001785,\n",
      "        0.92847406,  0.94008889,  0.95121136,  0.97201327,  0.98207233]), 'split0_train_score': array([ 0.4949201 ,  0.75749238,  0.85041341,  0.8864164 ,  0.91437172,\n",
      "        0.93645214,  0.95197849,  0.9675202 ,  0.97861202,  0.98500287]), 'split2_test_score': array([ 0.28937442,  0.55164441,  0.68394144,  0.70402534,  0.7070626 ,\n",
      "        0.67385519,  0.63377783,  0.69057356,  0.64664087,  0.60206698]), 'mean_fit_time': array([ 0.00147519,  0.00155613,  0.00135334,  0.00132847,  0.00137417,\n",
      "        0.00142713,  0.00149319,  0.00157754,  0.00157731,  0.00161378]), 'split3_train_score': array([ 0.51249088,  0.76796159,  0.86799292,  0.89911324,  0.92312296,\n",
      "        0.94829725,  0.9656594 ,  0.97560269,  0.98233385,  0.98859664]), 'split6_train_score': array([ 0.49517366,  0.74543836,  0.8342771 ,  0.8766616 ,  0.90485239,\n",
      "        0.93002142,  0.94562028,  0.95842833,  0.96829294,  0.97870121]), 'split9_test_score': array([ 0.49800945,  0.73299923,  0.82396998,  0.86396525,  0.8651755 ,\n",
      "        0.86047198,  0.85572043,  0.81340297,  0.85827413,  0.81901266]), 'std_test_score': array([ 0.0920932 ,  0.08254166,  0.06170085,  0.06022225,  0.05618123,\n",
      "        0.0555574 ,  0.06862115,  0.04703665,  0.06659439,  0.06932513]), 'params': ({'max_depth': 1}, {'max_depth': 2}, {'max_depth': 3}, {'max_depth': 4}, {'max_depth': 5}, {'max_depth': 6}, {'max_depth': 7}, {'max_depth': 8}, {'max_depth': 9}, {'max_depth': 10}), 'split8_test_score': array([ 0.44582019,  0.71194296,  0.79769657,  0.84243525,  0.83538911,\n",
      "        0.72239914,  0.69758816,  0.80691452,  0.78375619,  0.78596443]), 'std_score_time': array([  6.25527118e-05,   2.73343028e-05,   2.12628207e-05,\n",
      "         3.40496457e-06,   3.48319671e-06,   4.08802705e-06,\n",
      "         4.22182691e-06,   1.55434469e-05,   8.99934606e-06,\n",
      "         6.02704060e-06]), 'std_fit_time': array([  1.86674141e-04,   2.27267274e-04,   6.85453249e-05,\n",
      "         2.68510556e-05,   2.19904275e-05,   1.72825680e-05,\n",
      "         4.40501085e-05,   7.68663163e-05,   1.57132314e-05,\n",
      "         1.64936898e-05]), 'std_train_score': array([ 0.01530442,  0.01202348,  0.01207519,  0.00781953,  0.00787712,\n",
      "        0.00788384,  0.00850403,  0.00738972,  0.00526362,  0.00338807]), 'split4_test_score': array([ 0.44101286,  0.72767832,  0.76522601,  0.74179614,  0.76459491,\n",
      "        0.74586043,  0.75513416,  0.76873588,  0.7428484 ,  0.73390845]), 'param_max_depth': masked_array(data = [1 2 3 4 5 6 7 8 9 10],\n",
      "             mask = [False False False False False False False False False False],\n",
      "       fill_value = ?)\n",
      ", 'split1_train_score': array([ 0.4616485 ,  0.75570034,  0.85201115,  0.89601718,  0.92557133,\n",
      "        0.94762341,  0.96037566,  0.97016219,  0.98036414,  0.98772526]), 'split2_train_score': array([ 0.49704862,  0.75961072,  0.85070376,  0.89243271,  0.92178516,\n",
      "        0.94660742,  0.96370257,  0.97391112,  0.98115591,  0.9875562 ]), 'split4_train_score': array([ 0.47691022,  0.73446409,  0.83845012,  0.88664842,  0.91498679,\n",
      "        0.93205394,  0.95089958,  0.96467895,  0.97535442,  0.98511661]), 'mean_score_time': array([ 0.00033751,  0.00031936,  0.00030131,  0.00029202,  0.0002943 ,\n",
      "        0.00029874,  0.00029988,  0.00030696,  0.00030251,  0.00030484]), 'split9_train_score': array([ 0.46587847,  0.73132065,  0.84038854,  0.87358562,  0.90232172,\n",
      "        0.92780594,  0.94276233,  0.95717494,  0.9669023 ,  0.978846  ]), 'split5_test_score': array([ 0.37722814,  0.6464755 ,  0.78597364,  0.76366636,  0.74827346,\n",
      "        0.76304047,  0.75959404,  0.78139217,  0.78020781,  0.79116947]), 'mean_train_score': array([ 0.48383553,  0.74763896,  0.84498845,  0.88569321,  0.91297917,\n",
      "        0.93630827,  0.95185855,  0.96440959,  0.97501921,  0.98381579]), 'split8_train_score': array([ 0.47793375,  0.73627538,  0.8200887 ,  0.87954445,  0.90653362,\n",
      "        0.93666859,  0.95319026,  0.96582882,  0.97505742,  0.98293519]), 'split7_test_score': array([ 0.46408313,  0.69257854,  0.78261339,  0.80960764,  0.7549391 ,\n",
      "        0.76737436,  0.78731286,  0.78783603,  0.76093596,  0.77851925]), 'split0_test_score': array([ 0.36576033,  0.59645571,  0.77496891,  0.81755616,  0.80695308,\n",
      "        0.82166342,  0.80157003,  0.78370048,  0.73465264,  0.7228282 ]), 'mean_test_score': array([ 0.39212876,  0.63487089,  0.745768  ,  0.77544929,  0.7692749 ,\n",
      "        0.75256841,  0.74627957,  0.75616644,  0.73648985,  0.73415719]), 'split3_test_score': array([ 0.20667402,  0.45786336,  0.6098108 ,  0.66296615,  0.67185398,\n",
      "        0.67818731,  0.65515199,  0.67531202,  0.61846286,  0.64144712]), 'split5_train_score': array([ 0.4863467 ,  0.75205738,  0.84905691,  0.88307761,  0.90622815,\n",
      "        0.92907852,  0.94430805,  0.95957726,  0.97010586,  0.98160559]), 'split1_test_score': array([ 0.50632288,  0.61449527,  0.69371505,  0.74279635,  0.73357474,\n",
      "        0.72033086,  0.70152676,  0.70276789,  0.68674621,  0.67508621])}\n",
      "Trial 1: $391,183.33\n",
      "{'rank_test_score': array([10,  9,  5,  2,  3,  1,  4,  6,  7,  8], dtype=int32), 'split6_test_score': array([ 0.16320189,  0.51348944,  0.71739824,  0.76023268,  0.75556585,\n",
      "        0.76262215,  0.77899608,  0.6942076 ,  0.65913573,  0.67792685]), 'split7_train_score': array([ 0.46791517,  0.71840276,  0.8227146 ,  0.8763691 ,  0.90385927,\n",
      "        0.93273484,  0.94927004,  0.96756984,  0.98472282,  0.99206984]), 'split0_train_score': array([ 0.49835674,  0.74649222,  0.84161813,  0.88482404,  0.90417623,\n",
      "        0.92060722,  0.93858772,  0.96091614,  0.97426025,  0.98133691]), 'split2_test_score': array([ 0.45065706,  0.70545404,  0.87341248,  0.91360192,  0.90115849,\n",
      "        0.89422599,  0.86907442,  0.85944589,  0.85497258,  0.84317636]), 'mean_fit_time': array([ 0.00114243,  0.00119312,  0.00125165,  0.00132072,  0.00136318,\n",
      "        0.00161269,  0.00175745,  0.00175664,  0.00197742,  0.00165257]), 'split3_train_score': array([ 0.49616335,  0.7446921 ,  0.84538393,  0.89494353,  0.91720825,\n",
      "        0.9354371 ,  0.95722819,  0.97520257,  0.98510934,  0.99192493]), 'split6_train_score': array([ 0.46778672,  0.73512314,  0.83096021,  0.88123209,  0.90462346,\n",
      "        0.92384573,  0.94900257,  0.96441485,  0.97613871,  0.98756522]), 'split9_test_score': array([ 0.30283845,  0.60261413,  0.67075267,  0.74555135,  0.76700922,\n",
      "        0.71647636,  0.64511351,  0.62890854,  0.63817419,  0.63497232]), 'std_test_score': array([ 0.12346522,  0.0858066 ,  0.07435326,  0.07417266,  0.06013558,\n",
      "        0.05784511,  0.06819688,  0.07408106,  0.07243403,  0.07340938]), 'params': ({'max_depth': 1}, {'max_depth': 2}, {'max_depth': 3}, {'max_depth': 4}, {'max_depth': 5}, {'max_depth': 6}, {'max_depth': 7}, {'max_depth': 8}, {'max_depth': 9}, {'max_depth': 10}), 'split8_test_score': array([ 0.20410757,  0.48789335,  0.66157089,  0.6945776 ,  0.74926406,\n",
      "        0.75598674,  0.71519063,  0.70202525,  0.7082732 ,  0.71823594]), 'std_score_time': array([  4.10855469e-06,   1.95866341e-06,   3.05929222e-06,\n",
      "         8.53325375e-07,   3.55747365e-06,   3.93093242e-05,\n",
      "         1.03989562e-04,   1.83252093e-05,   1.91574580e-04,\n",
      "         5.31090430e-06]), 'std_fit_time': array([  3.17012535e-05,   1.60854109e-05,   5.01563789e-06,\n",
      "         3.56631879e-05,   3.99121532e-06,   2.26666549e-04,\n",
      "         2.99125332e-04,   7.70510015e-05,   3.20840467e-04,\n",
      "         7.98960687e-05]), 'std_train_score': array([ 0.0211846 ,  0.0169308 ,  0.01375484,  0.01224506,  0.01191465,\n",
      "        0.0125159 ,  0.01072548,  0.00700972,  0.00449338,  0.00395938]), 'split4_test_score': array([ 0.33816342,  0.65991168,  0.79854156,  0.84221297,  0.82486501,\n",
      "        0.84195354,  0.81352527,  0.80250184,  0.77528296,  0.77280163]), 'param_max_depth': masked_array(data = [1 2 3 4 5 6 7 8 9 10],\n",
      "             mask = [False False False False False False False False False False],\n",
      "       fill_value = ?)\n",
      ", 'split1_train_score': array([ 0.45261622,  0.72882016,  0.83855947,  0.88981909,  0.92455062,\n",
      "        0.94399989,  0.96232834,  0.97433566,  0.9822757 ,  0.98696997]), 'split2_train_score': array([ 0.43597885,  0.68449414,  0.79574211,  0.84851537,  0.8801861 ,\n",
      "        0.90234529,  0.93076908,  0.95370167,  0.97189804,  0.9801044 ]), 'split4_train_score': array([ 0.4774341 ,  0.73798711,  0.82427823,  0.87452863,  0.90672987,\n",
      "        0.93727172,  0.95533922,  0.96870552,  0.97816618,  0.98361154]), 'mean_score_time': array([ 0.00028152,  0.00028398,  0.00028956,  0.00029023,  0.00029364,\n",
      "        0.00032079,  0.00035765,  0.00031278,  0.00040042,  0.00030041]), 'split9_train_score': array([ 0.47089974,  0.73115368,  0.83805028,  0.88047584,  0.90716794,\n",
      "        0.93560847,  0.95977971,  0.97294547,  0.97992921,  0.98635854]), 'split5_test_score': array([ 0.47846698,  0.70566016,  0.78405386,  0.80404972,  0.77166559,\n",
      "        0.77004818,  0.75425142,  0.7246094 ,  0.70919733,  0.69455907]), 'mean_train_score': array([ 0.46929747,  0.72893046,  0.82954786,  0.87753224,  0.90405518,\n",
      "        0.92727807,  0.94849636,  0.96631872,  0.97901337,  0.98648592]), 'split8_train_score': array([ 0.48916783,  0.73776957,  0.82126693,  0.86670289,  0.88858853,\n",
      "        0.90927397,  0.93151538,  0.95642217,  0.97443578,  0.98452666]), 'split7_test_score': array([ 0.33750931,  0.7086914 ,  0.84634013,  0.85630491,  0.84856189,\n",
      "        0.85295469,  0.82745455,  0.80381234,  0.80233403,  0.78526187]), 'split0_test_score': array([ 0.1165818 ,  0.48832083,  0.68599723,  0.66404002,  0.69683479,\n",
      "        0.73251254,  0.6822367 ,  0.61674569,  0.61775954,  0.61276134]), 'mean_test_score': array([ 0.29765799,  0.60600635,  0.74606891,  0.77827282,  0.77805704,\n",
      "        0.77975055,  0.74915644,  0.72151109,  0.71154504,  0.70120911]), 'split3_test_score': array([ 0.16328085,  0.55101464,  0.66052788,  0.71279765,  0.70401423,\n",
      "        0.73524472,  0.71271241,  0.69497323,  0.67572244,  0.63463743]), 'split5_train_score': array([ 0.43665602,  0.72436974,  0.83690473,  0.87791185,  0.90346154,\n",
      "        0.93165647,  0.95114334,  0.96897336,  0.98319767,  0.99039123]), 'split1_test_score': array([ 0.42177252,  0.63701382,  0.76209416,  0.78935939,  0.76163127,\n",
      "        0.73548062,  0.6930094 ,  0.6878811 ,  0.67459838,  0.63775825])}\n",
      "Trial 2: $424,935.00\n"
     ]
    },
    {
     "name": "stdout",
     "output_type": "stream",
     "text": [
      "{'rank_test_score': array([10,  9,  3,  1,  4,  2,  5,  6,  7,  8], dtype=int32), 'split6_test_score': array([ 0.33602212,  0.60606787,  0.70242611,  0.70981622,  0.71578541,\n",
      "        0.74152431,  0.74569357,  0.73519456,  0.73352069,  0.70475734]), 'split7_train_score': array([ 0.46534108,  0.73494727,  0.83378016,  0.88141138,  0.91083191,\n",
      "        0.9336491 ,  0.95588465,  0.9744165 ,  0.98594274,  0.994389  ]), 'split0_train_score': array([ 0.49970218,  0.76026698,  0.84070996,  0.8888976 ,  0.91632318,\n",
      "        0.93656716,  0.95393217,  0.96426264,  0.97637371,  0.98324712]), 'split2_test_score': array([ 0.47698873,  0.67986638,  0.72632521,  0.79439237,  0.74752425,\n",
      "        0.74884201,  0.73797753,  0.73405408,  0.73745077,  0.73104289]), 'mean_fit_time': array([ 0.00122771,  0.00130031,  0.00130341,  0.0013726 ,  0.00141249,\n",
      "        0.00147102,  0.00163   ,  0.00174589,  0.00200651,  0.00186133]), 'split3_train_score': array([ 0.45440037,  0.7176706 ,  0.82771913,  0.87790033,  0.90896908,\n",
      "        0.93807525,  0.95830334,  0.97133404,  0.98154603,  0.99142348]), 'split6_train_score': array([ 0.47867511,  0.74272217,  0.8363654 ,  0.89020726,  0.91417362,\n",
      "        0.93607424,  0.9546173 ,  0.96999839,  0.98074583,  0.98773898]), 'split9_test_score': array([ 0.40185166,  0.68836664,  0.79853949,  0.79777678,  0.77863812,\n",
      "        0.78969835,  0.7908868 ,  0.78996432,  0.78854688,  0.77942055]), 'std_test_score': array([ 0.09650289,  0.08329718,  0.09087898,  0.08602105,  0.08631345,\n",
      "        0.08564141,  0.09107836,  0.08672834,  0.08924527,  0.0878155 ]), 'params': ({'max_depth': 1}, {'max_depth': 2}, {'max_depth': 3}, {'max_depth': 4}, {'max_depth': 5}, {'max_depth': 6}, {'max_depth': 7}, {'max_depth': 8}, {'max_depth': 9}, {'max_depth': 10}), 'split8_test_score': array([ 0.32543277,  0.5895897 ,  0.71282879,  0.73669146,  0.72073799,\n",
      "        0.70010635,  0.57785446,  0.59328239,  0.59344461,  0.66677909]), 'std_score_time': array([  2.07960050e-05,   3.09225864e-05,   1.16337518e-06,\n",
      "         8.86968386e-07,   3.24293092e-06,   4.38463370e-06,\n",
      "         4.98357853e-05,   2.20846784e-05,   1.37824295e-04,\n",
      "         1.85754851e-05]), 'std_fit_time': array([  1.23291049e-04,   1.87675390e-04,   6.47317156e-05,\n",
      "         8.72150968e-05,   8.03642651e-05,   7.88753703e-05,\n",
      "         2.13641009e-04,   9.26390292e-05,   2.41244719e-04,\n",
      "         2.34758754e-04]), 'std_train_score': array([ 0.01945249,  0.01515416,  0.00634818,  0.00836626,  0.00623303,\n",
      "        0.00527942,  0.00439787,  0.00472863,  0.00496327,  0.00356589]), 'split4_test_score': array([ 0.32151515,  0.64611151,  0.75732493,  0.78784526,  0.77898717,\n",
      "        0.76306219,  0.68507496,  0.69374745,  0.64420629,  0.67921714]), 'param_max_depth': masked_array(data = [1 2 3 4 5 6 7 8 9 10],\n",
      "             mask = [False False False False False False False False False False],\n",
      "       fill_value = ?)\n",
      ", 'split1_train_score': array([ 0.49641573,  0.76844959,  0.8430278 ,  0.90020274,  0.92299666,\n",
      "        0.94526545,  0.96011233,  0.97414541,  0.9857555 ,  0.99067778]), 'split2_train_score': array([ 0.43356467,  0.72456591,  0.83063869,  0.87437435,  0.91014971,\n",
      "        0.93618918,  0.94684088,  0.95981267,  0.96942118,  0.98310706]), 'split4_train_score': array([ 0.47405496,  0.73576662,  0.82945857,  0.87306856,  0.9041052 ,\n",
      "        0.93520786,  0.9589417 ,  0.97196389,  0.9805852 ,  0.98628258]), 'mean_score_time': array([ 0.00028582,  0.0002933 ,  0.00029008,  0.00028982,  0.00029366,\n",
      "        0.00029747,  0.0003165 ,  0.00031164,  0.00039132,  0.00031238]), 'split9_train_score': array([ 0.46063523,  0.73024045,  0.83417835,  0.88094641,  0.91540155,\n",
      "        0.94650222,  0.96378989,  0.97594739,  0.98740704,  0.99261909]), 'split5_test_score': array([ 0.43349063,  0.68041458,  0.80234798,  0.79456566,  0.80969909,\n",
      "        0.82738312,  0.78986362,  0.74592345,  0.76216043,  0.73814672]), 'mean_train_score': array([ 0.46840773,  0.73830287,  0.83380563,  0.88201891,  0.9111096 ,\n",
      "        0.93779053,  0.95619266,  0.97027436,  0.98094712,  0.98864421]), 'split8_train_score': array([ 0.47252419,  0.74300139,  0.84065082,  0.88100354,  0.90846174,\n",
      "        0.94234606,  0.95687652,  0.97262027,  0.98190041,  0.98812262]), 'split7_test_score': array([ 0.37760285,  0.63560058,  0.76913488,  0.74031968,  0.72928932,\n",
      "        0.71812497,  0.70820908,  0.6802941 ,  0.68769752,  0.64202365]), 'split0_test_score': array([ 0.11853311,  0.42440539,  0.47377662,  0.50397694,  0.52017339,\n",
      "        0.55034296,  0.54308302,  0.53385147,  0.50939199,  0.49500126]), 'mean_test_score': array([ 0.33873911,  0.6093903 ,  0.707692  ,  0.72649429,  0.70664001,\n",
      "        0.70841492,  0.67348091,  0.66364714,  0.66215988,  0.65467117]), 'split3_test_score': array([ 0.3581801 ,  0.65433134,  0.68616561,  0.74664388,  0.68433171,\n",
      "        0.68154739,  0.59480281,  0.56364077,  0.60723935,  0.55092585]), 'split5_train_score': array([ 0.44876376,  0.72539773,  0.82152737,  0.87217694,  0.8996833 ,\n",
      "        0.92802875,  0.95262778,  0.96824235,  0.97979357,  0.98883437]), 'split1_test_score': array([ 0.23777402,  0.48914903,  0.64805043,  0.6529147 ,  0.58123367,\n",
      "        0.56351757,  0.56136323,  0.56651878,  0.55794022,  0.55939716])}\n",
      "Trial 3: $415,800.00\n",
      "{'rank_test_score': array([10,  9,  2,  1,  3,  4,  5,  6,  7,  8], dtype=int32), 'split6_test_score': array([ 0.26847134,  0.57825822,  0.68648636,  0.66780729,  0.6922533 ,\n",
      "        0.67564964,  0.67939905,  0.63373742,  0.63337444,  0.60546211]), 'split7_train_score': array([ 0.48523643,  0.74844635,  0.82855868,  0.88728866,  0.9154086 ,\n",
      "        0.93780255,  0.95529479,  0.96647018,  0.97696082,  0.98559349]), 'split0_train_score': array([ 0.48133975,  0.74791391,  0.84623561,  0.89884711,  0.91956618,\n",
      "        0.94063412,  0.95592469,  0.96702411,  0.97571256,  0.98756584]), 'split2_test_score': array([ 0.47080254,  0.71920794,  0.81250345,  0.87653344,  0.84806074,\n",
      "        0.8792187 ,  0.86001737,  0.85617845,  0.81946345,  0.8064922 ]), 'mean_fit_time': array([ 0.00116768,  0.00119159,  0.0012584 ,  0.00131786,  0.00138521,\n",
      "        0.00142794,  0.00156598,  0.00173495,  0.00166349,  0.00166447]), 'split3_train_score': array([ 0.43966753,  0.72505098,  0.8170312 ,  0.88042806,  0.91224484,\n",
      "        0.9372403 ,  0.95311841,  0.97013203,  0.98167549,  0.98965079]), 'split6_train_score': array([ 0.4931488 ,  0.76034386,  0.83561628,  0.88555667,  0.90930488,\n",
      "        0.93071979,  0.94822878,  0.96812857,  0.98021253,  0.98709389]), 'split9_test_score': array([ 0.34479991,  0.69185605,  0.76881847,  0.77744967,  0.71930634,\n",
      "        0.72219302,  0.72093202,  0.72667519,  0.72014334,  0.72031569]), 'std_test_score': array([ 0.18156784,  0.14573398,  0.10748659,  0.13893135,  0.12171499,\n",
      "        0.13349277,  0.14766074,  0.13171674,  0.12066498,  0.11644125]), 'params': ({'max_depth': 1}, {'max_depth': 2}, {'max_depth': 3}, {'max_depth': 4}, {'max_depth': 5}, {'max_depth': 6}, {'max_depth': 7}, {'max_depth': 8}, {'max_depth': 9}, {'max_depth': 10}), 'split8_test_score': array([ 0.31166024,  0.6156472 ,  0.65272363,  0.69812649,  0.68289071,\n",
      "        0.698391  ,  0.6982343 ,  0.64795577,  0.68740323,  0.65230696]), 'std_score_time': array([  1.74502856e-05,   1.47819519e-06,   1.54310428e-06,\n",
      "         1.48146023e-06,   3.44685987e-06,   5.07758811e-06,\n",
      "         1.49042889e-05,   1.38475842e-05,   6.17043681e-06,\n",
      "         4.38871553e-06]), 'std_fit_time': array([  7.17962389e-05,   8.18192679e-06,   1.89450379e-05,\n",
      "         2.14566787e-05,   2.82811069e-05,   2.69288059e-05,\n",
      "         1.89928909e-04,   1.33675004e-04,   1.01797072e-04,\n",
      "         8.38456180e-05]), 'std_train_score': array([ 0.0230002 ,  0.01462704,  0.01253508,  0.01000784,  0.00748424,\n",
      "        0.00568664,  0.0060895 ,  0.00532062,  0.00485015,  0.00412394]), 'split4_test_score': array([-0.17602388,  0.23323983,  0.57289247,  0.42650274,  0.44767248,\n",
      "        0.39077352,  0.37186972,  0.41726332,  0.42937811,  0.42589575]), 'param_max_depth': masked_array(data = [1 2 3 4 5 6 7 8 9 10],\n",
      "             mask = [False False False False False False False False False False],\n",
      "       fill_value = ?)\n",
      ", 'split1_train_score': array([ 0.4515124 ,  0.74282748,  0.83881653,  0.88464667,  0.91131077,\n",
      "        0.93295977,  0.94844618,  0.96206339,  0.97870183,  0.9872382 ]), 'split2_train_score': array([ 0.454545  ,  0.73879427,  0.82174901,  0.87633463,  0.89845641,\n",
      "        0.92468134,  0.93997413,  0.95379887,  0.96593478,  0.97914829]), 'split4_train_score': array([ 0.50864067,  0.77361913,  0.84795309,  0.90021339,  0.9244037 ,\n",
      "        0.94404453,  0.95672739,  0.97217715,  0.98296456,  0.98994654]), 'mean_score_time': array([ 0.00028691,  0.0002841 ,  0.00028894,  0.00029142,  0.00029476,\n",
      "        0.00029798,  0.00030138,  0.00031662,  0.0003032 ,  0.00029979]), 'split9_train_score': array([ 0.46234798,  0.74753333,  0.84046085,  0.89023404,  0.91364436,\n",
      "        0.94272357,  0.96225757,  0.97308396,  0.98047809,  0.99232485]), 'split5_test_score': array([ 0.42564745,  0.75226913,  0.87488147,  0.87667843,  0.85792033,\n",
      "        0.84051192,  0.81017868,  0.80046722,  0.78679177,  0.79041452]), 'mean_train_score': array([ 0.46971316,  0.74652262,  0.8333524 ,  0.88651571,  0.91191577,\n",
      "        0.93572119,  0.95154462,  0.96620226,  0.97713599,  0.98619723]), 'split8_train_score': array([ 0.48438371,  0.7576248 ,  0.84639113,  0.89558708,  0.91452959,\n",
      "        0.93508586,  0.94997325,  0.96318595,  0.97165468,  0.97921846]), 'split7_test_score': array([ 0.30046833,  0.61438692,  0.76616258,  0.73777778,  0.7151217 ,\n",
      "        0.70049793,  0.68522791,  0.66936992,  0.63822217,  0.62017134]), 'split0_test_score': array([ 0.33094193,  0.67062486,  0.54299454,  0.57622793,  0.6359019 ,\n",
      "        0.63224802,  0.48646862,  0.53153725,  0.52707819,  0.55186795]), 'mean_test_score': array([ 0.31377784,  0.63251023,  0.73231262,  0.7329116 ,  0.72822091,\n",
      "        0.71747111,  0.69410026,  0.68973654,  0.68157025,  0.67057104]), 'split3_test_score': array([ 0.53502713,  0.77743966,  0.83333851,  0.85719234,  0.85652876,\n",
      "        0.83222569,  0.82285136,  0.81235646,  0.7947662 ,  0.78690402]), 'split5_train_score': array([ 0.43630939,  0.72307214,  0.81071164,  0.86602085,  0.90028839,\n",
      "        0.93132006,  0.94550098,  0.96595839,  0.97706457,  0.98419197]), 'split1_test_score': array([ 0.3259834 ,  0.67217248,  0.81232471,  0.83481995,  0.82655286,\n",
      "        0.80300171,  0.80582357,  0.80182441,  0.77908161,  0.74587989])}\n",
      "Trial 4: $420,622.22\n"
     ]
    },
    {
     "name": "stdout",
     "output_type": "stream",
     "text": [
      "{'rank_test_score': array([10,  9,  5,  2,  1,  3,  4,  6,  7,  8], dtype=int32), 'split6_test_score': array([ 0.45491635,  0.71740094,  0.78563163,  0.82777923,  0.84839543,\n",
      "        0.8323081 ,  0.81979915,  0.83679043,  0.8100613 ,  0.79780403]), 'split7_train_score': array([ 0.46475569,  0.72725065,  0.81895263,  0.86401751,  0.8947411 ,\n",
      "        0.92364453,  0.94551247,  0.96366987,  0.97656184,  0.98336033]), 'split0_train_score': array([ 0.46962122,  0.73237126,  0.81474754,  0.8597832 ,  0.89967612,\n",
      "        0.92966591,  0.94844111,  0.96260094,  0.97486201,  0.98388291]), 'split2_test_score': array([ 0.26174615,  0.46940913,  0.55771826,  0.57810063,  0.5945295 ,\n",
      "        0.54098226,  0.5279341 ,  0.4971943 ,  0.47180718,  0.47641173]), 'mean_fit_time': array([ 0.00116839,  0.0014082 ,  0.00134346,  0.00147159,  0.00150907,\n",
      "        0.00152876,  0.00176816,  0.00172441,  0.00168819,  0.00184772]), 'split3_train_score': array([ 0.49093764,  0.75054738,  0.8333374 ,  0.87798934,  0.90041903,\n",
      "        0.92501468,  0.95152315,  0.96693842,  0.97677391,  0.98725308]), 'split6_train_score': array([ 0.45787669,  0.72394503,  0.81644182,  0.85946843,  0.8879832 ,\n",
      "        0.91592689,  0.9391299 ,  0.96364775,  0.98188528,  0.99117848]), 'split9_test_score': array([ 0.04110319,  0.44183925,  0.62123376,  0.7455678 ,  0.74455972,\n",
      "        0.72012128,  0.6685958 ,  0.64907931,  0.72537251,  0.70021004]), 'std_test_score': array([ 0.1559227 ,  0.10922657,  0.07176898,  0.0753447 ,  0.06606945,\n",
      "        0.0724515 ,  0.07704771,  0.08266311,  0.0878188 ,  0.0863135 ]), 'params': ({'max_depth': 1}, {'max_depth': 2}, {'max_depth': 3}, {'max_depth': 4}, {'max_depth': 5}, {'max_depth': 6}, {'max_depth': 7}, {'max_depth': 8}, {'max_depth': 9}, {'max_depth': 10}), 'split8_test_score': array([ 0.42732438,  0.63689528,  0.70898403,  0.77438765,  0.76268373,\n",
      "        0.71863232,  0.69982742,  0.66508048,  0.65764832,  0.62689943]), 'std_score_time': array([  4.89710833e-06,   2.53381862e-05,   9.88687093e-06,\n",
      "         2.77103526e-05,   5.51587450e-06,   9.82472601e-06,\n",
      "         2.54132286e-05,   2.90221522e-05,   1.26972435e-04,\n",
      "         3.49056851e-05]), 'std_fit_time': array([  4.78692261e-05,   3.04255312e-04,   9.48158316e-05,\n",
      "         1.33642325e-04,   1.00983385e-04,   1.22023199e-04,\n",
      "         2.33572460e-04,   1.70049786e-04,   1.12587948e-04,\n",
      "         2.40388539e-04]), 'std_train_score': array([ 0.01404203,  0.01376974,  0.01426567,  0.0115186 ,  0.00863591,\n",
      "        0.00902999,  0.00891223,  0.00672559,  0.00685849,  0.00484553]), 'split4_test_score': array([ 0.35236715,  0.58760337,  0.67579388,  0.71156961,  0.74059648,\n",
      "        0.74721824,  0.75242887,  0.70050091,  0.69812151,  0.69230533]), 'param_max_depth': masked_array(data = [1 2 3 4 5 6 7 8 9 10],\n",
      "             mask = [False False False False False False False False False False],\n",
      "       fill_value = ?)\n",
      ", 'split1_train_score': array([ 0.46861019,  0.74076147,  0.82588299,  0.86313177,  0.88726402,\n",
      "        0.91101736,  0.93518663,  0.96058421,  0.97308073,  0.98412531]), 'split2_train_score': array([ 0.49310917,  0.75358499,  0.84026689,  0.88551186,  0.91062437,\n",
      "        0.93397803,  0.95188229,  0.96948618,  0.97980285,  0.98669384]), 'split4_train_score': array([ 0.48004084,  0.74939198,  0.83057596,  0.87327939,  0.89967649,\n",
      "        0.91630529,  0.93046325,  0.94703017,  0.95557245,  0.9719737 ]), 'mean_score_time': array([ 0.00028179,  0.00030041,  0.00029459,  0.00031281,  0.0002984 ,\n",
      "        0.00030396,  0.00031853,  0.00032892,  0.00034921,  0.00031557]), 'split9_train_score': array([ 0.48209491,  0.73601771,  0.84142084,  0.8862433 ,  0.9105929 ,\n",
      "        0.94003107,  0.96092526,  0.97140769,  0.97835977,  0.98403928]), 'split5_test_score': array([ 0.49561058,  0.76486781,  0.78962795,  0.85224287,  0.83359971,\n",
      "        0.79691769,  0.78705846,  0.76716873,  0.76525101,  0.75403398]), 'mean_train_score': array([ 0.4714633 ,  0.73587111,  0.82300788,  0.86859863,  0.89713516,\n",
      "        0.92262709,  0.94381985,  0.96197673,  0.97455152,  0.98455824]), 'split8_train_score': array([ 0.45978538,  0.73929467,  0.81823812,  0.86814051,  0.89633306,\n",
      "        0.91624911,  0.93754671,  0.95556084,  0.97309111,  0.98423705]), 'split7_test_score': array([ 0.42532894,  0.64636583,  0.62220544,  0.67452588,  0.70236723,\n",
      "        0.71609382,  0.67907451,  0.65679001,  0.60960872,  0.58188874]), 'split0_test_score': array([ 0.43332206,  0.68221668,  0.75834909,  0.80327242,  0.74753939,\n",
      "        0.76273104,  0.75055059,  0.67854062,  0.72172414,  0.67251267]), 'mean_test_score': array([ 0.32988773,  0.59609578,  0.69017326,  0.74619958,  0.74962427,\n",
      "        0.72910226,  0.70357828,  0.68370399,  0.68354506,  0.657367  ]), 'split3_test_score': array([ 0.04504173,  0.44096722,  0.70483235,  0.73679568,  0.75813294,\n",
      "        0.72402697,  0.67450169,  0.67890373,  0.69026995,  0.66619439]), 'split5_train_score': array([ 0.44780126,  0.7055459 ,  0.79021458,  0.84842097,  0.88404133,\n",
      "        0.91443802,  0.93758773,  0.95884127,  0.97552525,  0.98883838]), 'split1_test_score': array([ 0.36211681,  0.57339233,  0.67735622,  0.75775407,  0.76383856,\n",
      "        0.73199086,  0.6760122 ,  0.70699134,  0.68558591,  0.6054097 ])}\n",
      "Trial 5: $418,377.27\n",
      "{'rank_test_score': array([10,  9,  2,  1,  3,  4,  6,  5,  8,  7], dtype=int32), 'split6_test_score': array([ 0.44216164,  0.64380025,  0.75668053,  0.79468648,  0.76820245,\n",
      "        0.75865424,  0.69740151,  0.75755945,  0.70268783,  0.71886962]), 'split7_train_score': array([ 0.48672806,  0.7361278 ,  0.8238414 ,  0.88514425,  0.90551716,\n",
      "        0.92783174,  0.95070994,  0.96843279,  0.97858507,  0.98479072]), 'split0_train_score': array([ 0.46730293,  0.71673631,  0.80815952,  0.86254522,  0.90023406,\n",
      "        0.92989263,  0.94496954,  0.96078187,  0.97378498,  0.98073065]), 'split2_test_score': array([-0.00766094,  0.3204589 ,  0.50028936,  0.42518112,  0.40445378,\n",
      "        0.40380169,  0.37421331,  0.34637905,  0.35121093,  0.3918544 ]), 'mean_fit_time': array([ 0.00122089,  0.0012073 ,  0.00132446,  0.00130796,  0.00138865,\n",
      "        0.00142694,  0.00155749,  0.00166869,  0.00198612,  0.00175521]), 'split3_train_score': array([ 0.47275116,  0.70964623,  0.80497498,  0.85777124,  0.89633712,\n",
      "        0.92996614,  0.95218327,  0.96482925,  0.97592731,  0.98518464]), 'split6_train_score': array([ 0.47188295,  0.72797522,  0.81227765,  0.85985269,  0.89169085,\n",
      "        0.92644419,  0.94325662,  0.96061316,  0.97174437,  0.9818321 ]), 'split9_test_score': array([ 0.39936166,  0.67288458,  0.77567088,  0.78611334,  0.77540037,\n",
      "        0.75048798,  0.73744927,  0.75749864,  0.76079518,  0.77080079]), 'std_test_score': array([ 0.15568577,  0.11991802,  0.08673243,  0.11391848,  0.12072999,\n",
      "        0.11962071,  0.11896253,  0.12594361,  0.1288139 ,  0.12240908]), 'params': ({'max_depth': 1}, {'max_depth': 2}, {'max_depth': 3}, {'max_depth': 4}, {'max_depth': 5}, {'max_depth': 6}, {'max_depth': 7}, {'max_depth': 8}, {'max_depth': 9}, {'max_depth': 10}), 'split8_test_score': array([ 0.51681141,  0.75113424,  0.80683433,  0.84836627,  0.84757005,\n",
      "        0.82707132,  0.80798273,  0.81106756,  0.79421835,  0.81700609]), 'std_score_time': array([  1.70755147e-05,   5.85893951e-06,   3.96753446e-05,\n",
      "         1.15430054e-06,   1.48323185e-05,   4.49979935e-06,\n",
      "         3.79981476e-05,   2.45168620e-05,   5.03530161e-05,\n",
      "         1.75073930e-05]), 'std_fit_time': array([  1.88421007e-04,   4.23917084e-05,   7.47577261e-05,\n",
      "         3.62364868e-06,   4.71243474e-05,   1.82989948e-05,\n",
      "         1.27809491e-04,   7.13710706e-05,   3.78093910e-04,\n",
      "         2.37849282e-04]), 'std_train_score': array([ 0.01481162,  0.01422201,  0.01163574,  0.01178176,  0.00863798,\n",
      "        0.00731124,  0.00660023,  0.00645203,  0.00555101,  0.00443994]), 'split4_test_score': array([ 0.31932222,  0.67412585,  0.77182418,  0.74580476,  0.77401029,\n",
      "        0.72619077,  0.67531336,  0.68951462,  0.65554058,  0.60633827]), 'param_max_depth': masked_array(data = [1 2 3 4 5 6 7 8 9 10],\n",
      "             mask = [False False False False False False False False False False],\n",
      "       fill_value = ?)\n",
      ", 'split1_train_score': array([ 0.47658873,  0.72857148,  0.83211944,  0.8790196 ,  0.90544297,\n",
      "        0.92619669,  0.94538924,  0.96261591,  0.97190216,  0.98075028]), 'split2_train_score': array([ 0.49611559,  0.74443926,  0.83158355,  0.88475153,  0.91450179,\n",
      "        0.94040896,  0.96099594,  0.97833143,  0.98614   ,  0.99172726]), 'split4_train_score': array([ 0.46895768,  0.71020201,  0.8087563 ,  0.86354188,  0.89366772,\n",
      "        0.92499759,  0.94864924,  0.9617854 ,  0.97512494,  0.9829432 ]), 'mean_score_time': array([ 0.00028522,  0.0002866 ,  0.00030932,  0.00029097,  0.00030169,\n",
      "        0.00029581,  0.00031438,  0.00031769,  0.00034759,  0.0003057 ]), 'split9_train_score': array([ 0.48293393,  0.72625649,  0.8128006 ,  0.85673442,  0.88451925,\n",
      "        0.91075191,  0.93762739,  0.95424694,  0.96328334,  0.97332033]), 'split5_test_score': array([ 0.29103823,  0.60281761,  0.71527247,  0.76825831,  0.78480526,\n",
      "        0.78014883,  0.74450993,  0.75231385,  0.72745289,  0.73327231]), 'mean_train_score': array([ 0.47503944,  0.72244185,  0.81353232,  0.86607252,  0.8972476 ,\n",
      "        0.92588226,  0.94656096,  0.96299407,  0.97427529,  0.9826081 ]), 'split8_train_score': array([ 0.43934892,  0.69333554,  0.79317217,  0.84942621,  0.89073713,\n",
      "        0.92365139,  0.94371345,  0.96301863,  0.97532335,  0.98446612]), 'split7_test_score': array([ 0.12718079,  0.48987626,  0.6488628 ,  0.65282606,  0.64711864,\n",
      "        0.652742  ,  0.56908391,  0.61472976,  0.52791549,  0.6052332 ]), 'split0_test_score': array([ 0.449632  ,  0.69870486,  0.77079584,  0.78755653,  0.68877746,\n",
      "        0.66852953,  0.65542118,  0.64773273,  0.63061207,  0.61685252]), 'mean_test_score': array([ 0.33963381,  0.61794922,  0.72721943,  0.735892  ,  0.71077491,\n",
      "        0.69299188,  0.66316427,  0.67758553,  0.64950657,  0.66142264]), 'split3_test_score': array([ 0.43985669,  0.7049057 ,  0.78986099,  0.79530817,  0.78523517,\n",
      "        0.78760729,  0.7679717 ,  0.75779236,  0.7684958 ,  0.78626343]), 'split5_train_score': array([ 0.48778445,  0.73112813,  0.80763759,  0.86193818,  0.88982792,\n",
      "        0.91868133,  0.93811497,  0.95528532,  0.97093742,  0.98033573]), 'split1_test_score': array([ 0.41863435,  0.62078395,  0.7361029 ,  0.75481895,  0.63217559,\n",
      "        0.57468513,  0.60229583,  0.64126728,  0.57613659,  0.56773579])}\n",
      "Trial 6: $411,931.58\n"
     ]
    },
    {
     "name": "stdout",
     "output_type": "stream",
     "text": [
      "{'rank_test_score': array([10,  9,  3,  1,  2,  4,  5,  6,  7,  8], dtype=int32), 'split6_test_score': array([ 0.47017245,  0.64778419,  0.71469645,  0.72875546,  0.7177378 ,\n",
      "        0.65735809,  0.57623052,  0.54186851,  0.53851718,  0.54228653]), 'split7_train_score': array([ 0.48638372,  0.73601043,  0.83185343,  0.88214636,  0.91843122,\n",
      "        0.93989178,  0.95551747,  0.96725214,  0.97684718,  0.98684917]), 'split0_train_score': array([ 0.46944142,  0.7254998 ,  0.82215976,  0.86381535,  0.90900301,\n",
      "        0.93239013,  0.95153968,  0.96740426,  0.97838125,  0.98806754]), 'split2_test_score': array([ 0.29500727,  0.63777954,  0.75743681,  0.76289488,  0.77479715,\n",
      "        0.72138064,  0.74798071,  0.72926185,  0.71757967,  0.72892658]), 'mean_fit_time': array([ 0.00113785,  0.00118451,  0.00124619,  0.00131583,  0.00136642,\n",
      "        0.00141582,  0.00151978,  0.00169501,  0.0016582 ,  0.00167382]), 'split3_train_score': array([ 0.52871648,  0.77507552,  0.83960976,  0.88363197,  0.92078412,\n",
      "        0.94000928,  0.95854894,  0.97066664,  0.97994447,  0.98688675]), 'split6_train_score': array([ 0.49269914,  0.77084912,  0.84540966,  0.88986398,  0.91220113,\n",
      "        0.93511648,  0.95247155,  0.96155251,  0.97246998,  0.98048285]), 'split9_test_score': array([ 0.3880055 ,  0.6703358 ,  0.74221601,  0.81005114,  0.81276729,\n",
      "        0.80412618,  0.78863559,  0.78848587,  0.76576318,  0.762451  ]), 'std_test_score': array([ 0.06313389,  0.07000494,  0.04747298,  0.04491805,  0.05150681,\n",
      "        0.06975704,  0.0800805 ,  0.08534572,  0.08372372,  0.08524568]), 'params': ({'max_depth': 1}, {'max_depth': 2}, {'max_depth': 3}, {'max_depth': 4}, {'max_depth': 5}, {'max_depth': 6}, {'max_depth': 7}, {'max_depth': 8}, {'max_depth': 9}, {'max_depth': 10}), 'split8_test_score': array([ 0.48159662,  0.7880518 ,  0.81162905,  0.83405255,  0.84863616,\n",
      "        0.86743612,  0.84981756,  0.84510123,  0.85001049,  0.86484154]), 'std_score_time': array([  3.66893582e-06,   2.03928039e-06,   1.52364209e-06,\n",
      "         2.33601546e-06,   2.65545215e-06,   5.27444193e-06,\n",
      "         2.06692408e-05,   2.19280425e-05,   2.76443130e-05,\n",
      "         7.68891601e-06]), 'std_fit_time': array([  2.15220149e-05,   1.51090427e-06,   7.29923065e-06,\n",
      "         3.88670550e-05,   2.10948038e-05,   8.63470335e-06,\n",
      "         9.39803096e-05,   1.15892189e-04,   1.48277650e-04,\n",
      "         6.56644978e-05]), 'std_train_score': array([ 0.01833979,  0.01650012,  0.00690044,  0.00752023,  0.00423172,\n",
      "        0.00426174,  0.00403571,  0.00328239,  0.0032836 ,  0.00278259]), 'split4_test_score': array([ 0.44076512,  0.7884577 ,  0.81538296,  0.84976582,  0.82616796,\n",
      "        0.79136261,  0.76438619,  0.78119881,  0.75190249,  0.7713458 ]), 'param_max_depth': masked_array(data = [1 2 3 4 5 6 7 8 9 10],\n",
      "             mask = [False False False False False False False False False False],\n",
      "       fill_value = ?)\n",
      ", 'split1_train_score': array([ 0.47866313,  0.74048729,  0.82875873,  0.87947491,  0.91499946,\n",
      "        0.94262845,  0.95837936,  0.97190677,  0.98321102,  0.9895118 ]), 'split2_train_score': array([ 0.52224822,  0.77021216,  0.84123556,  0.88978389,  0.9170477 ,\n",
      "        0.93975229,  0.95312863,  0.96482579,  0.9738588 ,  0.98233842]), 'split4_train_score': array([ 0.49870117,  0.74659166,  0.82902153,  0.87677895,  0.91143691,\n",
      "        0.93307055,  0.94893586,  0.96441529,  0.97702368,  0.98435513]), 'mean_score_time': array([ 0.00028007,  0.00028329,  0.00028739,  0.0002892 ,  0.00029147,\n",
      "        0.00029666,  0.00030396,  0.00031478,  0.00030806,  0.00030127]), 'split9_train_score': array([ 0.47497999,  0.73619514,  0.83922428,  0.88572572,  0.91338876,\n",
      "        0.93512574,  0.95380425,  0.96955598,  0.97766265,  0.98616747]), 'split5_test_score': array([ 0.46100995,  0.79144413,  0.80253256,  0.83564265,  0.82033983,\n",
      "        0.83556432,  0.82979601,  0.7614389 ,  0.7802124 ,  0.72156488]), 'mean_train_score': array([ 0.49258481,  0.74813691,  0.83378149,  0.88017917,  0.91346953,\n",
      "        0.93582377,  0.9528279 ,  0.96677513,  0.977078  ,  0.98549266]), 'split8_train_score': array([ 0.48756046,  0.74187627,  0.83255997,  0.87689838,  0.91140745,\n",
      "        0.93064824,  0.94429972,  0.96229707,  0.97219439,  0.9825063 ]), 'split7_test_score': array([ 0.39669372,  0.73210021,  0.83097896,  0.78319811,  0.77080585,\n",
      "        0.78575257,  0.76847241,  0.74973645,  0.751278  ,  0.72393541]), 'split0_test_score': array([ 0.40729453,  0.73269857,  0.84326799,  0.87876857,  0.87799833,\n",
      "        0.8705371 ,  0.87123238,  0.86289224,  0.83456685,  0.83406519]), 'mean_test_score': array([ 0.40558018,  0.70181069,  0.77942415,  0.80749766,  0.79137232,\n",
      "        0.77468554,  0.76281173,  0.74671426,  0.73840152,  0.73217728]), 'split3_test_score': array([ 0.29289085,  0.59259699,  0.69647173,  0.75878732,  0.72433609,\n",
      "        0.71097014,  0.724716  ,  0.71961071,  0.72664922,  0.71580165]), 'split5_train_score': array([ 0.48645435,  0.73857166,  0.82798225,  0.87367214,  0.90599558,\n",
      "        0.92960473,  0.95165354,  0.96787481,  0.97918662,  0.98776112]), 'split1_test_score': array([ 0.42236579,  0.63685794,  0.77962894,  0.83306013,  0.74013668,\n",
      "        0.70236763,  0.70684991,  0.6875481 ,  0.66753569,  0.65655417])}\n",
      "Trial 7: $399,663.16\n",
      "{'rank_test_score': array([10,  9,  2,  1,  3,  4,  5,  6,  7,  8], dtype=int32), 'split6_test_score': array([ 0.35453352,  0.67832403,  0.81597719,  0.80511084,  0.82165359,\n",
      "        0.77951873,  0.74595403,  0.71272322,  0.68527137,  0.60829516]), 'split7_train_score': array([ 0.46132255,  0.7240913 ,  0.8233184 ,  0.87132381,  0.89810782,\n",
      "        0.92552684,  0.94703003,  0.96289766,  0.97657173,  0.98512662]), 'split0_train_score': array([ 0.47864976,  0.71788431,  0.80602214,  0.86129644,  0.89464075,\n",
      "        0.91916673,  0.93987842,  0.95318139,  0.96436226,  0.97696264]), 'split2_test_score': array([ 0.40177847,  0.7349476 ,  0.78589578,  0.76330886,  0.70606819,\n",
      "        0.70686133,  0.64771522,  0.72183785,  0.63257577,  0.63158379]), 'mean_fit_time': array([ 0.00115981,  0.00119059,  0.001284  ,  0.00131037,  0.00136611,\n",
      "        0.00143251,  0.00155115,  0.00170088,  0.00160739,  0.00166678]), 'split3_train_score': array([ 0.46564356,  0.72966398,  0.81686841,  0.85687567,  0.88930124,\n",
      "        0.9266731 ,  0.94810445,  0.96862591,  0.98209251,  0.9907249 ]), 'split6_train_score': array([ 0.46429286,  0.70094744,  0.80689901,  0.8613857 ,  0.89195786,\n",
      "        0.91783513,  0.94120798,  0.95820548,  0.96890051,  0.98198688]), 'split9_test_score': array([ 0.38874084,  0.7088081 ,  0.80042164,  0.8079994 ,  0.77351453,\n",
      "        0.73078331,  0.71439141,  0.63832716,  0.71791316,  0.67738936]), 'std_test_score': array([ 0.02187735,  0.04595984,  0.05167476,  0.03934708,  0.03741129,\n",
      "        0.02870617,  0.03981153,  0.04087204,  0.03418026,  0.04224629]), 'params': ({'max_depth': 1}, {'max_depth': 2}, {'max_depth': 3}, {'max_depth': 4}, {'max_depth': 5}, {'max_depth': 6}, {'max_depth': 7}, {'max_depth': 8}, {'max_depth': 9}, {'max_depth': 10}), 'split8_test_score': array([ 0.42871837,  0.71986351,  0.86440291,  0.86624469,  0.79857301,\n",
      "        0.79900785,  0.78281362,  0.78821808,  0.76718839,  0.75754503]), 'std_score_time': array([  1.88022793e-05,   3.99548567e-06,   1.26519195e-06,\n",
      "         1.54310428e-06,   3.51891608e-06,   4.79239136e-06,\n",
      "         4.15495663e-05,   1.43927631e-05,   2.75375936e-05,\n",
      "         4.16079700e-06]), 'std_fit_time': array([  8.44676481e-05,   4.50358749e-06,   8.45878241e-05,\n",
      "         1.83877615e-05,   1.75043570e-05,   4.00983194e-05,\n",
      "         1.14225891e-04,   8.89852113e-05,   4.44221161e-05,\n",
      "         7.88230717e-05]), 'std_train_score': array([ 0.00760288,  0.01027899,  0.00587752,  0.00613194,  0.00533472,\n",
      "        0.00925257,  0.00829091,  0.00550124,  0.00584387,  0.00415101]), 'split4_test_score': array([ 0.40698787,  0.69239492,  0.71662434,  0.72518946,  0.73867237,\n",
      "        0.76384898,  0.76520997,  0.72041231,  0.74652437,  0.68208927]), 'param_max_depth': masked_array(data = [1 2 3 4 5 6 7 8 9 10],\n",
      "             mask = [False False False False False False False False False False],\n",
      "       fill_value = ?)\n",
      ", 'split1_train_score': array([ 0.46622834,  0.70640506,  0.81257187,  0.87232197,  0.89908589,\n",
      "        0.9284816 ,  0.95049942,  0.96998969,  0.98115191,  0.98977281]), 'split2_train_score': array([ 0.45875994,  0.70247554,  0.81267388,  0.85848141,  0.89136009,\n",
      "        0.91393122,  0.94120408,  0.96748339,  0.98105207,  0.98801753]), 'split4_train_score': array([ 0.4589926 ,  0.70918589,  0.81238209,  0.85995728,  0.88397988,\n",
      "        0.9044304 ,  0.92700314,  0.9588137 ,  0.97321912,  0.98436782]), 'mean_score_time': array([ 0.00028489,  0.00028601,  0.00028796,  0.00029042,  0.00029364,\n",
      "        0.0002965 ,  0.00031357,  0.00031364,  0.00030849,  0.00029974]), 'split9_train_score': array([ 0.46271795,  0.72892994,  0.82112244,  0.86926417,  0.90392306,\n",
      "        0.94138172,  0.96049266,  0.97124642,  0.98330819,  0.99106747]), 'split5_test_score': array([ 0.39533234,  0.56492491,  0.66868645,  0.74522548,  0.74709105,\n",
      "        0.7321824 ,  0.66755234,  0.65061606,  0.70521868,  0.63899893]), 'mean_train_score': array([ 0.46454388,  0.71593884,  0.81457034,  0.86337916,  0.89383843,\n",
      "        0.92211441,  0.94509431,  0.96400445,  0.97659235,  0.98617566]), 'split8_train_score': array([ 0.45223083,  0.71464595,  0.81120654,  0.85421495,  0.89105558,\n",
      "        0.92345282,  0.94560521,  0.96420728,  0.97889595,  0.98820792]), 'split7_test_score': array([ 0.37890205,  0.65929133,  0.77476971,  0.7916692 ,  0.78119483,\n",
      "        0.77198046,  0.75598036,  0.74335093,  0.72426571,  0.70956742]), 'split0_test_score': array([ 0.38247548,  0.668416  ,  0.79830881,  0.79421975,  0.76710745,\n",
      "        0.7707073 ,  0.73540808,  0.72813681,  0.72540843,  0.71097092]), 'mean_test_score': array([ 0.39259063,  0.67740733,  0.77476254,  0.78537349,  0.76180597,\n",
      "        0.75035727,  0.72656396,  0.71425076,  0.71235365,  0.68166039]), 'split3_test_score': array([ 0.3675391 ,  0.64433576,  0.77909732,  0.80958517,  0.78617024,\n",
      "        0.72479966,  0.72201371,  0.73014058,  0.71028923,  0.70476389]), 'split5_train_score': array([ 0.47660039,  0.725159  ,  0.82263867,  0.86867021,  0.89497213,\n",
      "        0.9202645 ,  0.94991769,  0.96539362,  0.97636923,  0.98552199]), 'split1_test_score': array([ 0.42089824,  0.70276718,  0.74344123,  0.74518202,  0.69801441,\n",
      "        0.72388265,  0.72860083,  0.70874464,  0.70888144,  0.69540014])}\n",
      "Trial 8: $407,232.00\n"
     ]
    },
    {
     "name": "stdout",
     "output_type": "stream",
     "text": [
      "{'rank_test_score': array([10,  9,  1,  2,  3,  4,  5,  6,  7,  8], dtype=int32), 'split6_test_score': array([ 0.5073628 ,  0.75237458,  0.80205047,  0.86213835,  0.82973415,\n",
      "        0.86168981,  0.83226174,  0.73439515,  0.73227398,  0.75632186]), 'split7_train_score': array([ 0.43594155,  0.71912949,  0.82683679,  0.87161071,  0.90338146,\n",
      "        0.926914  ,  0.93961886,  0.95459005,  0.96250745,  0.97169722]), 'split0_train_score': array([ 0.48634642,  0.73349499,  0.83499643,  0.88721761,  0.90866672,\n",
      "        0.93170304,  0.95225868,  0.96702535,  0.97991623,  0.9879272 ]), 'split2_test_score': array([ 0.45962094,  0.72545107,  0.78680775,  0.80136534,  0.7677728 ,\n",
      "        0.7401089 ,  0.75289414,  0.69980775,  0.72168336,  0.72366348]), 'mean_fit_time': array([ 0.00114176,  0.00118737,  0.00125175,  0.0012985 ,  0.00135872,\n",
      "        0.00141702,  0.00151329,  0.00168803,  0.0016911 ,  0.00165949]), 'split3_train_score': array([ 0.47898661,  0.73570164,  0.83046734,  0.87855703,  0.90843531,\n",
      "        0.93436286,  0.95033627,  0.96137095,  0.97011886,  0.97792896]), 'split6_train_score': array([ 0.44637332,  0.70943269,  0.80743569,  0.84990035,  0.88102224,\n",
      "        0.9142602 ,  0.93571914,  0.95643522,  0.97247831,  0.98250992]), 'split9_test_score': array([ 0.37161937,  0.69709619,  0.72832095,  0.75737183,  0.74205364,\n",
      "        0.73587576,  0.71604167,  0.7209181 ,  0.6918824 ,  0.71441617]), 'std_test_score': array([ 0.10669767,  0.10832267,  0.07772463,  0.12025115,  0.10442837,\n",
      "        0.12797358,  0.11546372,  0.11165588,  0.11320651,  0.1101683 ]), 'params': ({'max_depth': 1}, {'max_depth': 2}, {'max_depth': 3}, {'max_depth': 4}, {'max_depth': 5}, {'max_depth': 6}, {'max_depth': 7}, {'max_depth': 8}, {'max_depth': 9}, {'max_depth': 10}), 'split8_test_score': array([ 0.20536892,  0.47872226,  0.65530148,  0.45454157,  0.48496412,\n",
      "        0.42399494,  0.46737529,  0.47089144,  0.43819082,  0.43730449]), 'std_score_time': array([  5.16378537e-06,   2.31891945e-06,   1.42433901e-06,\n",
      "         1.20537039e-06,   3.71114429e-06,   5.01042189e-06,\n",
      "         2.02094591e-05,   1.75759777e-05,   2.88441552e-05,\n",
      "         4.25862569e-06]), 'std_fit_time': array([  3.72986722e-05,   7.58665751e-06,   1.78813299e-05,\n",
      "         1.95459617e-06,   1.33051453e-05,   1.24919505e-05,\n",
      "         7.71843687e-05,   1.13246890e-04,   1.92987374e-04,\n",
      "         7.20104788e-05]), 'std_train_score': array([ 0.01788417,  0.0151869 ,  0.01321353,  0.01443049,  0.01329051,\n",
      "        0.00974863,  0.00944591,  0.00753272,  0.00718408,  0.00596003]), 'split4_test_score': array([ 0.20746706,  0.41647528,  0.56100891,  0.5553548 ,  0.54713846,\n",
      "        0.51034064,  0.49811504,  0.44776271,  0.46863628,  0.44786311]), 'param_max_depth': masked_array(data = [1 2 3 4 5 6 7 8 9 10],\n",
      "             mask = [False False False False False False False False False False],\n",
      "       fill_value = ?)\n",
      ", 'split1_train_score': array([ 0.46910789,  0.73419592,  0.8319209 ,  0.87144647,  0.89722524,\n",
      "        0.92710213,  0.94786251,  0.96385288,  0.97542456,  0.98402968]), 'split2_train_score': array([ 0.45843946,  0.71072984,  0.80814215,  0.85766106,  0.89275111,\n",
      "        0.91900393,  0.94117116,  0.95403312,  0.96717886,  0.97615273]), 'split4_train_score': array([ 0.49884473,  0.76517366,  0.85324157,  0.9030849 ,  0.92639564,\n",
      "        0.94594783,  0.96298684,  0.97501669,  0.98283201,  0.98759223]), 'mean_score_time': array([ 0.00027916,  0.00028229,  0.00028608,  0.00028915,  0.00029323,\n",
      "        0.00029478,  0.00030503,  0.00030921,  0.00031028,  0.00030053]), 'split9_train_score': array([ 0.46340944,  0.72361426,  0.82831719,  0.87935771,  0.91859522,\n",
      "        0.9403163 ,  0.96104351,  0.9734509 ,  0.98394059,  0.99177458]), 'split5_test_score': array([ 0.47832508,  0.69965564,  0.81421695,  0.81492266,  0.80543274,\n",
      "        0.82062615,  0.75226893,  0.80432885,  0.79570495,  0.7333697 ]), 'mean_train_score': array([ 0.4657324 ,  0.72768242,  0.8261401 ,  0.87418554,  0.90408136,\n",
      "        0.92941287,  0.94810549,  0.96299288,  0.97399821,  0.98250373]), 'split8_train_score': array([ 0.46707813,  0.72255041,  0.82799094,  0.87988355,  0.91447718,\n",
      "        0.9364655 ,  0.95474136,  0.96908682,  0.97998143,  0.98680536]), 'split7_test_score': array([ 0.52129318,  0.61064466,  0.76003329,  0.72854788,  0.74017077,\n",
      "        0.75557542,  0.74732613,  0.72100365,  0.75157004,  0.72863374]), 'split0_test_score': array([ 0.35723504,  0.6317365 ,  0.70119118,  0.67548344,  0.70593028,\n",
      "        0.6424354 ,  0.59187128,  0.58315056,  0.60719051,  0.63805225]), 'mean_test_score': array([ 0.38265943,  0.61098425,  0.71600265,  0.70875243,  0.70635237,\n",
      "        0.69356024,  0.68315471,  0.65744211,  0.65511473,  0.65185197]), 'split3_test_score': array([ 0.3597887 ,  0.60121435,  0.72583116,  0.78599777,  0.75939748,\n",
      "        0.74522371,  0.76295834,  0.69178476,  0.70843165,  0.68346749]), 'split5_train_score': array([ 0.45279644,  0.72280136,  0.81205196,  0.86313603,  0.88986348,\n",
      "        0.91805291,  0.93531653,  0.95506684,  0.96560382,  0.97861943]), 'split1_test_score': array([ 0.35851318,  0.49647198,  0.62526439,  0.65180068,  0.68092926,\n",
      "        0.69973166,  0.71043458,  0.70037817,  0.63558333,  0.65542746])}\n",
      "Trial 9: $351,577.61\n",
      "{'rank_test_score': array([10,  9,  2,  1,  3,  4,  5,  7,  6,  8], dtype=int32), 'split6_test_score': array([ 0.39736649,  0.66165369,  0.77802947,  0.83379251,  0.73073918,\n",
      "        0.73123611,  0.73693375,  0.73710322,  0.71282503,  0.72861713]), 'split7_train_score': array([ 0.41752729,  0.71510053,  0.80699018,  0.85603084,  0.88589624,\n",
      "        0.91801752,  0.94302367,  0.96442465,  0.97721088,  0.98835196]), 'split0_train_score': array([ 0.42328286,  0.71250575,  0.81489973,  0.86611917,  0.905908  ,\n",
      "        0.93300253,  0.95083608,  0.96641615,  0.97745873,  0.98522109]), 'split2_test_score': array([ 0.37084302,  0.65285396,  0.69820323,  0.77785956,  0.74667388,\n",
      "        0.74035901,  0.65435442,  0.68141534,  0.67326496,  0.6101045 ]), 'mean_fit_time': array([ 0.00113995,  0.00119133,  0.00125873,  0.00131021,  0.00136161,\n",
      "        0.00142329,  0.00156105,  0.00169513,  0.00180383,  0.00167162]), 'split3_train_score': array([ 0.43596063,  0.72720415,  0.83777433,  0.88851339,  0.91684365,\n",
      "        0.93496834,  0.95397396,  0.96672116,  0.97929601,  0.98539712]), 'split6_train_score': array([ 0.43893594,  0.73212979,  0.83537712,  0.87083079,  0.91086641,\n",
      "        0.92856748,  0.94624269,  0.9599299 ,  0.97227943,  0.98339761]), 'split9_test_score': array([ 0.44410948,  0.72035921,  0.81404491,  0.79417086,  0.78078856,\n",
      "        0.77220904,  0.74900952,  0.70417234,  0.6797435 ,  0.67901978]), 'std_test_score': array([ 0.05690959,  0.04063113,  0.04281827,  0.0310547 ,  0.03827561,\n",
      "        0.03946799,  0.04692632,  0.02875606,  0.04873676,  0.04785628]), 'params': ({'max_depth': 1}, {'max_depth': 2}, {'max_depth': 3}, {'max_depth': 4}, {'max_depth': 5}, {'max_depth': 6}, {'max_depth': 7}, {'max_depth': 8}, {'max_depth': 9}, {'max_depth': 10}), 'split8_test_score': array([ 0.42796403,  0.69611049,  0.80904704,  0.85175505,  0.8313295 ,\n",
      "        0.83494547,  0.81264523,  0.78488963,  0.75896649,  0.75304799]), 'std_score_time': array([  4.42258431e-06,   1.23057250e-06,   1.18851124e-06,\n",
      "         1.11420836e-06,   5.35481972e-06,   2.90987898e-06,\n",
      "         5.83833505e-05,   3.03461056e-05,   3.33254595e-05,\n",
      "         4.34739788e-06]), 'std_fit_time': array([  2.34752241e-05,   3.38822916e-06,   1.71473354e-05,\n",
      "         9.57968106e-06,   3.39024178e-06,   1.42370233e-05,\n",
      "         1.26663749e-04,   9.26523219e-05,   2.90601966e-04,\n",
      "         7.13786404e-05]), 'std_train_score': array([ 0.01532827,  0.00969022,  0.01116419,  0.00890568,  0.00845207,\n",
      "        0.00660338,  0.00656354,  0.00411819,  0.00332814,  0.00329544]), 'split4_test_score': array([ 0.45583706,  0.73170106,  0.81805371,  0.83006757,  0.82513184,\n",
      "        0.81811262,  0.80411937,  0.74944145,  0.75840223,  0.70685351]), 'param_max_depth': masked_array(data = [1 2 3 4 5 6 7 8 9 10],\n",
      "             mask = [False False False False False False False False False False],\n",
      "       fill_value = ?)\n",
      ", 'split1_train_score': array([ 0.42262037,  0.71880494,  0.81265757,  0.8625816 ,  0.90450254,\n",
      "        0.93695739,  0.95176875,  0.9677292 ,  0.97924835,  0.98793994]), 'split2_train_score': array([ 0.44266861,  0.72430954,  0.82422316,  0.87421688,  0.90906355,\n",
      "        0.9350293 ,  0.96304637,  0.97423731,  0.98273026,  0.99093575]), 'split4_train_score': array([ 0.42303109,  0.71712942,  0.81915242,  0.86778371,  0.89722963,\n",
      "        0.92093223,  0.93877858,  0.96100043,  0.97334806,  0.98109463]), 'mean_score_time': array([ 0.00028112,  0.00028405,  0.00028908,  0.0002903 ,  0.00029435,\n",
      "        0.00029402,  0.00032496,  0.00031734,  0.0003191 ,  0.00030091]), 'split9_train_score': array([ 0.42562362,  0.71783281,  0.81906823,  0.86918387,  0.90105997,\n",
      "        0.92574035,  0.95583828,  0.9716548 ,  0.9820071 ,  0.99032509]), 'split5_test_score': array([ 0.258224  ,  0.60107452,  0.77412741,  0.77121739,  0.78172987,\n",
      "        0.73273871,  0.76615545,  0.72175657,  0.83490477,  0.77539381]), 'mean_train_score': array([ 0.43193326,  0.72167919,  0.82043949,  0.86810242,  0.90272598,\n",
      "        0.92973443,  0.950126  ,  0.96639995,  0.97774488,  0.98606693]), 'split8_train_score': array([ 0.41888266,  0.70877408,  0.80279393,  0.85596246,  0.89385773,\n",
      "        0.92594793,  0.9460641 ,  0.96723736,  0.97940441,  0.98687538]), 'split7_test_score': array([ 0.44829996,  0.72470012,  0.79234613,  0.83048364,  0.77505217,\n",
      "        0.79024498,  0.77894096,  0.71802427,  0.72527137,  0.69860599]), 'split0_test_score': array([ 0.41083202,  0.73891585,  0.8452563 ,  0.78702734,  0.70324504,\n",
      "        0.70309394,  0.74426273,  0.72008447,  0.70857489,  0.73543812]), 'mean_test_score': array([ 0.40838553,  0.69271997,  0.79386578,  0.81066905,  0.7687704 ,\n",
      "        0.76200802,  0.74600293,  0.72117452,  0.72123587,  0.70496926]), 'split3_test_score': array([ 0.40910857,  0.7003045 ,  0.75766697,  0.77548499,  0.77493437,\n",
      "        0.75577911,  0.73072199,  0.70602345,  0.69415927,  0.72196806]), 'split5_train_score': array([ 0.4707995 ,  0.74300092,  0.83145823,  0.86980144,  0.90203214,\n",
      "        0.93818125,  0.95168755,  0.96464853,  0.97446555,  0.98113076]), 'split1_test_score': array([ 0.46127064,  0.69952628,  0.85188263,  0.8548316 ,  0.7380796 ,\n",
      "        0.74136123,  0.68288588,  0.68883451,  0.66624619,  0.64064369])}\n",
      "Trial 10: $413,700.00\n",
      "\n",
      "Range in prices: $73,357.39\n"
     ]
    }
   ],
   "source": [
    "vs.PredictTrials(features, prices, fit_model, client_data)"
   ]
  },
  {
   "cell_type": "markdown",
   "metadata": {},
   "source": [
    "### 问题 11 - 实用性探讨\n",
    "*简单地讨论一下你建构的模型能否在现实世界中使用？* \n",
    "\n",
    "**提示：** 回答几个问题，并给出相应结论的理由：\n",
    "- *1978年所采集的数据，在今天是否仍然适用？*\n",
    "- *数据中呈现的特征是否足够描述一个房屋？*\n",
    "- *模型是否足够健壮来保证预测的一致性？*\n",
    "- *在波士顿这样的大都市采集的数据，能否应用在其它乡镇地区？*"
   ]
  },
  {
   "cell_type": "markdown",
   "metadata": {},
   "source": [
    "**答案: **用这个数据集构建的模型并不能在现实世界使用。原因如下\n",
    "- 就房屋信息而言，1978年采集的数据，我认为在今天是不太适用的，因为这么多年过去人们的需求会发生很大的变化，原来的数据集并不能很好的训练模型预测现今的房价。\n",
    "- 就数据中的三个特征肯定是不足够描述一个房屋的，比如说房龄，肯定也是房子价格的一个决定因素。\n",
    "- 根据上述计算结果，十次房价预测的偏差范围为28,652.84，在房价的7%左右，这个结果应该还是比较可接受的。\n",
    "- 在波士顿这样的大都市采集的数据肯定不能应用到其他乡镇地区，因为乡镇地区的本身就是很小的区域，适合于大都市的这些房价特征在这里并不适用。"
   ]
  },
  {
   "cell_type": "markdown",
   "metadata": {},
   "source": [
    "### 可选问题 - 预测北京房价\n",
    "\n",
    "（本题结果不影响项目是否通过）通过上面的实践，相信你对机器学习的一些常用概念有了很好的领悟和掌握。但利用70年代的波士顿房价数据进行建模的确对我们来说意义不是太大。现在你可以把你上面所学应用到北京房价数据集中`bj_housing.csv`。\n",
    "\n",
    "免责声明：考虑到北京房价受到宏观经济、政策调整等众多因素的直接影响，预测结果仅供参考。\n",
    "\n",
    "这个数据集的特征有：\n",
    "- Area：房屋面积，平方米\n",
    "- Room：房间数，间\n",
    "- Living: 厅数，间\n",
    "- School: 是否为学区房，0或1\n",
    "- Year: 房屋建造时间，年\n",
    "- Floor: 房屋所处楼层，层\n",
    "\n",
    "目标变量：\n",
    "- Value: 房屋人民币售价，万\n",
    "\n",
    "你可以参考上面学到的内容，拿这个数据集来练习数据分割与重排、定义衡量标准、训练模型、评价模型表现、使用网格搜索配合交叉验证对参数进行调优并选出最佳参数，比较两者的差别，最终得出最佳模型对验证集的预测分数。"
   ]
  },
  {
   "cell_type": "code",
   "execution_count": 30,
   "metadata": {},
   "outputs": [
    {
     "name": "stdout",
     "output_type": "stream",
     "text": [
      "Parameter 'max_depth' is 5 for the optimal model.\n",
      "对测试数据集的预测评分是： 0.291389921096\n",
      "对测试数据集的预测评分是： 0.661839169428\n"
     ]
    }
   ],
   "source": [
    "### 准备数据\n",
    "bj_data = pd.read_csv('bj_housing.csv')\n",
    "#print np.shape(bj_data)\n",
    "bj_prices = bj_data['Value']\n",
    "bj_features = bj_data.drop('Value',axis = 1)\n",
    "\n",
    "###数据分割和重排\n",
    "features_train,features_test,prices_train,prices_test = train_test_split(bj_features,bj_prices,train_size = 0.8,random_state=20)\n",
    "\n",
    "###训练模型\n",
    "def bj_fit(X,y):\n",
    "    cv_sets = ShuffleSplit(n_splits = 10, test_size = 0.20, random_state = 0)\n",
    "    regressor = DecisionTreeRegressor(random_state=0)\n",
    "    scoring_fnc = make_scorer(r2_score)\n",
    "    params = {'max_depth':[i for i in range(1,110)]}\n",
    "    grid = GridSearchCV(regressor,params,scoring_fnc,cv=cv_sets)\n",
    "    grid = grid.fit(X,y)\n",
    "    return grid.best_estimator_\n",
    "\n",
    "bj_reg = bj_fit(features_train,prices_train)\n",
    "\n",
    "reg_2 = DecisionTreeRegressor()\n",
    "reg_2.fit(features_train,prices_train)\n",
    "pred_2 = reg_2.predict(features_test)\n",
    "score_2 = r2_score(pred_2,prices_test)\n",
    "\n",
    "##对测试数据集进行预测，并给测试数据评分\n",
    "prices_predict = bj_reg.predict(features_test)\n",
    "score = r2_score(prices_predict,prices_test)\n",
    "print \"Parameter 'max_depth' is {} for the optimal model.\".format(bj_reg.get_params()['max_depth'])\n",
    "print '对测试数据集的预测评分是：',score\n",
    "print '对测试数据集的预测评分是：',score_2\n",
    "\n",
    "\n"
   ]
  },
  {
   "cell_type": "markdown",
   "metadata": {},
   "source": [
    "你成功的用新的数据集构建了模型了吗？他能对测试数据进行验证吗？它的表现是否符合你的预期？交叉验证是否有助于提升你模型的表现？"
   ]
  },
  {
   "cell_type": "markdown",
   "metadata": {},
   "source": [
    "**答案：**如上述代码所示，我用新的数据集构建了模型，并用r2_score方法对其预测效果进行了验证，多次运行的结果都不同，反倒是没用网格搜索和交叉验证的例子得出的数据稳定，比如说 max_depth的值，每次运行的结果竟然是不一样的，而且差别很大，这有点超出我的预期。交叉验证对模型表现的提升也没办法得到验证"
   ]
  },
  {
   "cell_type": "markdown",
   "metadata": {},
   "source": [
    "如果你是从零开始构建机器学习的代码会让你一时觉得无从下手。这时不要着急，你要做的只是查看之前写的代码，把每一行都看明白，然后逐步构建你的模型。当中遇到什么问题也可以在我们论坛寻找答案。也许你会发现你所构建的模型的表现并没有达到你的预期，这说明机器学习并非是一项简单的任务，构建一个表现良好的模型需要长时间的研究和测试。这也是我们接下来的课程中会逐渐学到的。"
   ]
  }
 ],
 "metadata": {
  "kernelspec": {
   "display_name": "Python 2",
   "language": "python",
   "name": "python2"
  },
  "language_info": {
   "codemirror_mode": {
    "name": "ipython",
    "version": 2
   },
   "file_extension": ".py",
   "mimetype": "text/x-python",
   "name": "python",
   "nbconvert_exporter": "python",
   "pygments_lexer": "ipython2",
   "version": "2.7.13"
  }
 },
 "nbformat": 4,
 "nbformat_minor": 1
}
