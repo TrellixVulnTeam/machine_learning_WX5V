{
 "cells": [
  {
   "cell_type": "code",
   "execution_count": 1,
   "metadata": {
    "collapsed": true
   },
   "outputs": [],
   "source": [
    "import os\n",
    "import shutil\n",
    "train_filenames = os.listdir('train')\n",
    "train_cat = filter(lambda x:x[:3] == 'cat', train_filenames)\n",
    "train_dog = filter(lambda x:x[:3] == 'dog', train_filenames)"
   ]
  },
  {
   "cell_type": "code",
   "execution_count": null,
   "metadata": {
    "collapsed": true
   },
   "outputs": [],
   "source": [
    "def rmrf_mkdir(dirname):\n",
    "    if os.path.exists(dirname):\n",
    "        shutil.rmtree(dirname)\n",
    "    os.mkdir(dirname)\n",
    "\n",
    "rmrf_mkdir('train2')\n",
    "os.mkdir('train2/cat')\n",
    "os.mkdir('train2/dog')\n",
    "\n",
    "rmrf_mkdir('validation')\n",
    "os.mkdir('validation/cat')\n",
    "os.mkdir('validation/dog')\n",
    "\n",
    "rmrf_mkdir('test2')\n",
    "os.symlink('../test/', 'test2/test')\n",
    "\n",
    "# 把数据集分成训练集和验证集，用软连接的方式把图片链接到train2和validation文件夹。20000张在训练集，5000张在验证集。\n",
    "for filename in train_cat:\n",
    "    if int(filename[4:-4])<10000:\n",
    "        os.symlink('../../train/'+filename, 'train2/cat/'+filename)\n",
    "    else: \n",
    "        os.symlink('../../train/'+filename, 'validation/cat/'+filename)\n",
    "\n",
    "for filename in train_dog:\n",
    "    if int(filename[4:-4])<10000:\n",
    "        os.symlink('../../train/'+filename, 'train2/dog/'+filename)\n",
    "    else:\n",
    "        os.symlink('../../train/'+filename, 'validation/dog/'+filename)"
   ]
  },
  {
   "cell_type": "code",
   "execution_count": 3,
   "metadata": {
    "collapsed": true
   },
   "outputs": [],
   "source": [
    "rmrf_mkdir('train3')\n",
    "os.mkdir('train3/cat')\n",
    "os.mkdir('train3/dog')\n",
    "\n",
    "# 为后面的特征向量导出方法生成器提供数据。\n",
    "for filename in train_cat:\n",
    "    os.symlink('../../train/'+filename, 'train3/cat/'+filename)   \n",
    "for filename in train_dog:\n",
    "    os.symlink('../../train/'+filename, 'train3/dog/'+filename)"
   ]
  }
 ],
 "metadata": {
  "anaconda-cloud": {},
  "kernelspec": {
   "display_name": "Python 3",
   "language": "python",
   "name": "python3"
  },
  "language_info": {
   "codemirror_mode": {
    "name": "ipython",
    "version": 3
   },
   "file_extension": ".py",
   "mimetype": "text/x-python",
   "name": "python",
   "nbconvert_exporter": "python",
   "pygments_lexer": "ipython3",
   "version": "3.5.2"
  },
  "widgets": {
   "state": {},
   "version": "1.1.2"
  }
 },
 "nbformat": 4,
 "nbformat_minor": 1
}
