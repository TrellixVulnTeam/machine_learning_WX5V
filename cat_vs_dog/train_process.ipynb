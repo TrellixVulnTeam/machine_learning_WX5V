{
 "cells": [
  {
   "cell_type": "markdown",
   "metadata": {},
   "source": [
    "## 载入数据\n",
    "\n",
    "把我们在write_gap里导出的特征向量加载进来，并按不同组合去合成特征向量，作为后续模型的输入。"
   ]
  },
  {
   "cell_type": "code",
   "execution_count": null,
   "metadata": {},
   "outputs": [],
   "source": [
    "import h5py\n",
    "import numpy as np\n",
    "from sklearn.utils import shuffle\n",
    "\n",
    "X_train = []\n",
    "X_test = []\n",
    "\n",
    "for filename in [\"gap_f_ResNet50.h5\",\"gap_f_InceptionV3.h5\"]:\n",
    "    with h5py.File(filename, 'r') as h:\n",
    "        X_train.append(np.array(h['train']))\n",
    "        X_test.append(np.array(h['test']))\n",
    "        y_train = np.array(h['label'])\n",
    "\n",
    "X_train = np.concatenate(X_train, axis=1)\n",
    "X_test = np.concatenate(X_test, axis=1)\n",
    "\n",
    "X_train, y_train = shuffle(X_train, y_train)"
   ]
  },
  {
   "cell_type": "markdown",
   "metadata": {},
   "source": [
    "## 构建模型\n",
    "\n",
    "这里构建一个简单分类模型，利用上面出的X_train去训练模型。该模型较简单，可以快速完成训练。"
   ]
  },
  {
   "cell_type": "code",
   "execution_count": 21,
   "metadata": {},
   "outputs": [],
   "source": [
    "from keras.models import *\n",
    "from keras.layers import *\n",
    "\n",
    "input_tensor = Input(X_train.shape[1:])\n",
    "x = input_tensor\n",
    "x = Dropout(0.5)(x)\n",
    "x = Dense(1, activation='sigmoid')(x)\n",
    "model = Model(input_tensor, x)\n",
    "\n",
    "model.compile(optimizer='adadelta',\n",
    "              loss='binary_crossentropy',\n",
    "              metrics=['accuracy'])"
   ]
  },
  {
   "cell_type": "code",
   "execution_count": 22,
   "metadata": {},
   "outputs": [
    {
     "name": "stderr",
     "output_type": "stream",
     "text": [
      "/opt/anaconda3/envs/mlnd-dl/lib/python2.7/site-packages/ipykernel/__main__.py:1: UserWarning: The `nb_epoch` argument in `fit` has been renamed `epochs`.\n",
      "  if __name__ == '__main__':\n"
     ]
    },
    {
     "name": "stdout",
     "output_type": "stream",
     "text": [
      "Train on 20000 samples, validate on 5000 samples\n",
      "Epoch 1/15\n",
      "20000/20000 [==============================] - 0s - loss: 2.2157 - acc: 0.7552 - val_loss: 0.1101 - val_acc: 0.9730\n",
      "Epoch 2/15\n",
      "20000/20000 [==============================] - 0s - loss: 0.2729 - acc: 0.9491 - val_loss: 0.0282 - val_acc: 0.9940\n",
      "Epoch 3/15\n",
      "20000/20000 [==============================] - 0s - loss: 0.0850 - acc: 0.9798 - val_loss: 0.0752 - val_acc: 0.9822\n",
      "Epoch 4/15\n",
      "20000/20000 [==============================] - 0s - loss: 0.0476 - acc: 0.9876 - val_loss: 0.0274 - val_acc: 0.9944\n",
      "Epoch 5/15\n",
      "20000/20000 [==============================] - 0s - loss: 0.0414 - acc: 0.9899 - val_loss: 0.0457 - val_acc: 0.9902\n",
      "Epoch 6/15\n",
      "20000/20000 [==============================] - 0s - loss: 0.0359 - acc: 0.9928 - val_loss: 0.0251 - val_acc: 0.9956\n",
      "Epoch 7/15\n",
      "20000/20000 [==============================] - 0s - loss: 0.0310 - acc: 0.9926 - val_loss: 0.0418 - val_acc: 0.9896\n",
      "Epoch 8/15\n",
      "20000/20000 [==============================] - 0s - loss: 0.0315 - acc: 0.9928 - val_loss: 0.0264 - val_acc: 0.9944\n",
      "Epoch 9/15\n",
      "20000/20000 [==============================] - 0s - loss: 0.0273 - acc: 0.9940 - val_loss: 0.0245 - val_acc: 0.9950\n",
      "Epoch 10/15\n",
      "20000/20000 [==============================] - 0s - loss: 0.0261 - acc: 0.9941 - val_loss: 0.0250 - val_acc: 0.9948\n",
      "Epoch 11/15\n",
      "20000/20000 [==============================] - 0s - loss: 0.0223 - acc: 0.9946 - val_loss: 0.0254 - val_acc: 0.9942\n",
      "Epoch 12/15\n",
      "20000/20000 [==============================] - 0s - loss: 0.0261 - acc: 0.9945 - val_loss: 0.0245 - val_acc: 0.9946\n",
      "Epoch 13/15\n",
      "20000/20000 [==============================] - 0s - loss: 0.0247 - acc: 0.9950 - val_loss: 0.0244 - val_acc: 0.9954\n",
      "Epoch 14/15\n",
      "20000/20000 [==============================] - 0s - loss: 0.0234 - acc: 0.9948 - val_loss: 0.0271 - val_acc: 0.9940\n",
      "Epoch 15/15\n",
      "20000/20000 [==============================] - 0s - loss: 0.0218 - acc: 0.9956 - val_loss: 0.0248 - val_acc: 0.9948\n"
     ]
    },
    {
     "data": {
      "text/plain": [
       "<keras.callbacks.History at 0x7f68369e7fd0>"
      ]
     },
     "execution_count": 22,
     "metadata": {},
     "output_type": "execute_result"
    }
   ],
   "source": [
    "model.fit(X_train, y_train, batch_size=128, nb_epoch=15, validation_split=0.2)"
   ]
  },
  {
   "cell_type": "code",
   "execution_count": 17,
   "metadata": {},
   "outputs": [
    {
     "name": "stdout",
     "output_type": "stream",
     "text": [
      "11456/12500 [==========================>...] - ETA: 0s"
     ]
    }
   ],
   "source": [
    "y_pred = model.predict(X_test, verbose=1)\n",
    "y_pred = y_pred.clip(min=0.005, max=0.995)"
   ]
  },
  {
   "cell_type": "markdown",
   "metadata": {},
   "source": [
    "## 输出结果\n",
    "\n",
    "把预测的结果按照要求格式输出。"
   ]
  },
  {
   "cell_type": "code",
   "execution_count": 18,
   "metadata": {},
   "outputs": [
    {
     "name": "stdout",
     "output_type": "stream",
     "text": [
      "Found 12500 images belonging to 1 classes.\n"
     ]
    },
    {
     "data": {
      "text/html": [
       "<div>\n",
       "<table border=\"1\" class=\"dataframe\">\n",
       "  <thead>\n",
       "    <tr style=\"text-align: right;\">\n",
       "      <th></th>\n",
       "      <th>id</th>\n",
       "      <th>label</th>\n",
       "    </tr>\n",
       "  </thead>\n",
       "  <tbody>\n",
       "    <tr>\n",
       "      <th>0</th>\n",
       "      <td>1</td>\n",
       "      <td>9.999993e-01</td>\n",
       "    </tr>\n",
       "    <tr>\n",
       "      <th>1</th>\n",
       "      <td>2</td>\n",
       "      <td>9.999828e-01</td>\n",
       "    </tr>\n",
       "    <tr>\n",
       "      <th>2</th>\n",
       "      <td>3</td>\n",
       "      <td>9.999940e-01</td>\n",
       "    </tr>\n",
       "    <tr>\n",
       "      <th>3</th>\n",
       "      <td>4</td>\n",
       "      <td>9.999833e-01</td>\n",
       "    </tr>\n",
       "    <tr>\n",
       "      <th>4</th>\n",
       "      <td>5</td>\n",
       "      <td>1.707789e-05</td>\n",
       "    </tr>\n",
       "    <tr>\n",
       "      <th>5</th>\n",
       "      <td>6</td>\n",
       "      <td>4.399886e-08</td>\n",
       "    </tr>\n",
       "    <tr>\n",
       "      <th>6</th>\n",
       "      <td>7</td>\n",
       "      <td>3.799499e-06</td>\n",
       "    </tr>\n",
       "    <tr>\n",
       "      <th>7</th>\n",
       "      <td>8</td>\n",
       "      <td>6.051049e-08</td>\n",
       "    </tr>\n",
       "    <tr>\n",
       "      <th>8</th>\n",
       "      <td>9</td>\n",
       "      <td>6.206559e-06</td>\n",
       "    </tr>\n",
       "    <tr>\n",
       "      <th>9</th>\n",
       "      <td>10</td>\n",
       "      <td>6.153911e-07</td>\n",
       "    </tr>\n",
       "  </tbody>\n",
       "</table>\n",
       "</div>"
      ],
      "text/plain": [
       "   id         label\n",
       "0   1  9.999993e-01\n",
       "1   2  9.999828e-01\n",
       "2   3  9.999940e-01\n",
       "3   4  9.999833e-01\n",
       "4   5  1.707789e-05\n",
       "5   6  4.399886e-08\n",
       "6   7  3.799499e-06\n",
       "7   8  6.051049e-08\n",
       "8   9  6.206559e-06\n",
       "9  10  6.153911e-07"
      ]
     },
     "execution_count": 18,
     "metadata": {},
     "output_type": "execute_result"
    }
   ],
   "source": [
    "import pandas as pd\n",
    "from keras.preprocessing.image import *\n",
    "\n",
    "df = pd.read_csv(\"sample_submission.csv\")\n",
    "\n",
    "image_size = (224, 224)\n",
    "gen = ImageDataGenerator()\n",
    "test_generator = gen.flow_from_directory(\"test2\", image_size, shuffle=False, \n",
    "                                         batch_size=16, class_mode=None)\n",
    "\n",
    "for i, fname in enumerate(test_generator.filenames):\n",
    "    index = int(fname[fname.rfind('/')+1:fname.rfind('.')])\n",
    "    df.set_value(index-1, 'label', y_pred[i])\n",
    "\n",
    "df.to_csv('pred_02.csv', index=None)\n",
    "df.head(10)"
   ]
  }
 ],
 "metadata": {
  "anaconda-cloud": {},
  "kernelspec": {
   "display_name": "Python 3",
   "language": "python",
   "name": "python3"
  },
  "language_info": {
   "codemirror_mode": {
    "name": "ipython",
    "version": 3
   },
   "file_extension": ".py",
   "mimetype": "text/x-python",
   "name": "python",
   "nbconvert_exporter": "python",
   "pygments_lexer": "ipython3",
   "version": "3.5.2"
  },
  "widgets": {
   "state": {},
   "version": "1.1.2"
  }
 },
 "nbformat": 4,
 "nbformat_minor": 1
}
